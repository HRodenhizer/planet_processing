{
 "cells": [
  {
   "cell_type": "markdown",
   "id": "0ee3776e",
   "metadata": {},
   "source": [
    "# RTS Polygon Bounding Box Retrieval\n",
    "### This script extracts buffered bounding boxes from the RTS polygon dataset in order to define the AOIs for planet data download.\n",
    "### TODO:\n",
    "- Update polygon input when the new version is finalized!"
   ]
  },
  {
   "cell_type": "code",
   "execution_count": null,
   "id": "c1f3a8aa",
   "metadata": {},
   "outputs": [],
   "source": [
    "import ee\n",
    "ee.Initialize()"
   ]
  },
  {
   "cell_type": "code",
   "execution_count": null,
   "id": "810b0d80",
   "metadata": {},
   "outputs": [],
   "source": [
    "# Import Libraries\n",
    "import geemap"
   ]
  },
  {
   "cell_type": "code",
   "execution_count": null,
   "id": "d8ad9e54",
   "metadata": {},
   "outputs": [],
   "source": [
    "# Import polygons\n",
    "rts = ee.FeatureCollection('users/hrodenhizer-woodwellclimate/fixed_polygons_for_Yili_Apr_2022');\n",
    "\n",
    "print(rts.size().getInfo())"
   ]
  },
  {
   "cell_type": "code",
   "execution_count": null,
   "id": "6b811e2f",
   "metadata": {
    "scrolled": true
   },
   "outputs": [],
   "source": [
    "# Set up map\n",
    "Map = geemap.Map();\n",
    "Map.centerObject(rts);\n",
    "\n",
    "Map.addLayer(rts, {'color': 'FF0000'}, 'RTS')"
   ]
  },
  {
   "cell_type": "code",
   "execution_count": null,
   "id": "0f4b25ce",
   "metadata": {},
   "outputs": [],
   "source": [
    "# Extract bounding boxes\n",
    "def extractBBox(feature):\n",
    "    return feature.bounds().buffer(1500).bounds()\n",
    "\n",
    "rts_bboxes = rts.map(extractBBox)\n",
    "\n",
    "Map.addLayer(rts_bboxes, {'color': '000000'}, 'BBoxes')"
   ]
  },
  {
   "cell_type": "code",
   "execution_count": null,
   "id": "1f0406e2",
   "metadata": {},
   "outputs": [],
   "source": [
    "rts_union = rts_bboxes.union(0.1)\n",
    "Map.addLayer(rts_union, {'color': 'FFFF00'}, 'Union')"
   ]
  },
  {
   "cell_type": "code",
   "execution_count": null,
   "id": "98d7a67d",
   "metadata": {},
   "outputs": [],
   "source": [
    "Map"
   ]
  },
  {
   "cell_type": "code",
   "execution_count": null,
   "id": "0bc5f6fd",
   "metadata": {},
   "outputs": [],
   "source": [
    "# lots of overlap in bounding boxes\n",
    "def setArea(feature):\n",
    "    return feature.set('area', ee.Number(feature.area(1)).divide(ee.Number(10e5))); # return area in km^2\n",
    "\n",
    "rts_bboxes = rts_bboxes.map(setArea)\n",
    "\n",
    "rts_bboxes.aggregate_sum('area').getInfo()"
   ]
  },
  {
   "cell_type": "code",
   "execution_count": null,
   "id": "14e2f516",
   "metadata": {},
   "outputs": [],
   "source": [
    "# taking the union results in about 1/3 the area\n",
    "rts_union = rts_union.map(setArea)\n",
    "\n",
    "rts_union.aggregate_sum('area').getInfo()"
   ]
  },
  {
   "cell_type": "code",
   "execution_count": null,
   "id": "b6db6bd6",
   "metadata": {},
   "outputs": [],
   "source": [
    "# export output to google drive\n",
    "task = ee.batch.Export.table.toDrive(\n",
    "    collection = rts_union,\n",
    "    description = 'RTS_buffer',\n",
    "    folder = 'Earth Engine Exports',\n",
    "    fileFormat = 'SHP'\n",
    ")\n",
    "task.start()"
   ]
  },
  {
   "cell_type": "code",
   "execution_count": null,
   "id": "6ce9706c",
   "metadata": {},
   "outputs": [],
   "source": []
  }
 ],
 "metadata": {
  "kernelspec": {
   "display_name": "Python 3 (ipykernel)",
   "language": "python",
   "name": "python3"
  },
  "language_info": {
   "codemirror_mode": {
    "name": "ipython",
    "version": 3
   },
   "file_extension": ".py",
   "mimetype": "text/x-python",
   "name": "python",
   "nbconvert_exporter": "python",
   "pygments_lexer": "ipython3",
   "version": "3.8.13"
  },
  "varInspector": {
   "cols": {
    "lenName": 16,
    "lenType": 16,
    "lenVar": 40
   },
   "kernels_config": {
    "python": {
     "delete_cmd_postfix": "",
     "delete_cmd_prefix": "del ",
     "library": "var_list.py",
     "varRefreshCmd": "print(var_dic_list())"
    },
    "r": {
     "delete_cmd_postfix": ") ",
     "delete_cmd_prefix": "rm(",
     "library": "var_list.r",
     "varRefreshCmd": "cat(var_dic_list()) "
    }
   },
   "types_to_exclude": [
    "module",
    "function",
    "builtin_function_or_method",
    "instance",
    "_Feature"
   ],
   "window_display": false
  }
 },
 "nbformat": 4,
 "nbformat_minor": 5
}
