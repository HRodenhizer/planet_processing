{
 "cells": [
  {
   "cell_type": "code",
   "execution_count": null,
   "id": "1a5a3b02",
   "metadata": {
    "scrolled": true
   },
   "outputs": [],
   "source": [
    "import ee\n",
    "ee.Initialize()"
   ]
  },
  {
   "cell_type": "code",
   "execution_count": null,
   "id": "08e0f663",
   "metadata": {
    "scrolled": true
   },
   "outputs": [],
   "source": [
    "# Import Libraries\n",
    "import geemap\n",
    "from pprint import pprint\n",
    "import numpy as np\n",
    "import pandas as pd\n",
    "import geopandas as gpd\n",
    "import xarray as xr\n",
    "import rioxarray as rxr\n",
    "import shapely as shp\n",
    "import os\n",
    "import re"
   ]
  },
  {
   "cell_type": "code",
   "execution_count": null,
   "id": "473d7a8a",
   "metadata": {
    "scrolled": true
   },
   "outputs": [],
   "source": [
    "# Get Sentinel-2 Mosaic to Align Planet Data\n",
    "MAX_CLOUD_PROBABILITY = 50\n",
    "geometry = ee.Geometry({\n",
    "    'type': 'Polygon',\n",
    "    'coordinates': [[\n",
    "        [66, 66],\n",
    "        [66, 73.5],\n",
    "        [85, 73.5],\n",
    "        [85, 66],\n",
    "        [66, 66]\n",
    "        ]]\n",
    "})\n",
    "\n",
    "s2 = (\n",
    "    ee.ImageCollection('COPERNICUS/S2_SR_HARMONIZED')\n",
    "    .filterBounds(geometry)\n",
    "    .filterDate('2017-06-15', '2021-08-31')\n",
    "    .filter(ee.Filter.dayOfYear(135, 243))\n",
    ");\n",
    "\n",
    "s2_clouds = (\n",
    "    ee.ImageCollection('COPERNICUS/S2_CLOUD_PROBABILITY')\n",
    "    .filterBounds(geometry)\n",
    "    .filterDate('2017-06-15', '2021-08-31')\n",
    "    .filter(ee.Filter.dayOfYear(135, 243))\n",
    ");\n",
    "\n",
    "def s2_maskcloud(image):\n",
    "    \n",
    "    clouds = ee.Image(image.get('cloud_mask')).select('probability')\n",
    "    \n",
    "    isNotCloud = clouds.lt(MAX_CLOUD_PROBABILITY)\n",
    "    \n",
    "    return image.updateMask(isNotCloud)\n",
    "\n",
    "# Join S2 SR with cloud probability dataset to add cloud mask.\n",
    "s2_with_clouds = ee.Join.saveFirst('cloud_mask').apply(    \n",
    "  primary=s2,\n",
    "  secondary=s2_clouds,\n",
    "  condition=ee.Filter.equals(leftField='system:index', rightField='system:index'))\n",
    "\n",
    "s2_masked = ee.ImageCollection(s2_with_clouds).map(s2_maskcloud)\n",
    "\n",
    "s2_mosaic = (\n",
    "    s2_masked\n",
    "    .select(['B2', 'B3', 'B4', 'B8'])\n",
    "    .median()\n",
    "    .clip(geometry));\n",
    "\n",
    "pprint(s2_mosaic.getInfo())"
   ]
  },
  {
   "cell_type": "code",
   "execution_count": null,
   "id": "ae5e03b2",
   "metadata": {},
   "outputs": [],
   "source": [
    "Map = geemap.Map()\n",
    "Map.centerObject(geometry)\n",
    "Map.addLayer(geometry, {'color': 'black'}, 'AOI')\n",
    "Map.addLayer(s2_mosaic, {'bands':['B4', 'B3', 'B2'], 'min':0, 'max':1000}, 'S2 All Years')"
   ]
  },
  {
   "cell_type": "code",
   "execution_count": null,
   "id": "c3ebb18f",
   "metadata": {
    "scrolled": false
   },
   "outputs": [],
   "source": [
    "Map"
   ]
  },
  {
   "cell_type": "code",
   "execution_count": null,
   "id": "6f359edb",
   "metadata": {},
   "outputs": [],
   "source": [
    "# Export only in the polygons we need\n",
    "# Import shapefile with AOI (multipolygon)\n",
    "aoi = gpd.read_file(\"/home/hrodenhizer/Documents/permafrost_pathways/rts_mapping/planet_processing_test/data/yg_train_regions/rts_buffer/RTS_buffer.shp\")\n",
    "# convert from multipolygon to multiple polygons\n",
    "aoi = aoi.explode(column = 'geometry', ignore_index = True)\n",
    "# remove inner holes\n",
    "aoi.geometry = aoi.geometry.exterior\n",
    "pprint(aoi.geometry)\n",
    "# convert back to polygon\n",
    "aoi.geometry = [shp.geometry.Polygon([shp.geometry.Point(x, y) for x, y in list(feature.coords)]) for feature in aoi.geometry]\n",
    "aoi.geometry = aoi.geometry.to_crs(crs = 32642).buffer(100, join_style = 2).to_crs(crs = 4326)\n",
    "pprint(aoi.geometry)"
   ]
  },
  {
   "cell_type": "code",
   "execution_count": null,
   "id": "acbfd055",
   "metadata": {
    "scrolled": true
   },
   "outputs": [],
   "source": [
    "# figure out the correct utm zone for each polygon\n",
    "base_dir = '/home/hrodenhizer/Documents/permafrost_pathways/rts_mapping/planet_processing_test/data/planet_data/yg_train_regions'\n",
    "tgt_files = []\n",
    "for root, subdirs, files in os.walk(base_dir):\n",
    "    for file in files:\n",
    "        if re.match('.*SR.*tif$', file):\n",
    "            tgt_files.append(os.path.join(root, file))\n",
    "            \n",
    "tgt_files = sorted(tgt_files)\n",
    "tgt_files = [file for file in tgt_files if not re.match('.*/2017/.*tif$', file)]\n",
    "\n",
    "utm42n = []\n",
    "utm43n = []\n",
    "utm44n = []\n",
    "for polygon_id in range(0, 68):\n",
    "    example_files = [file for file in tgt_files if re.match('.*/polygon_id_' + str(polygon_id) + '/.*', file)]\n",
    "    \n",
    "    crs = []\n",
    "    for file in example_files:\n",
    "        crs.append(str(rxr.open_rasterio(file).rio.crs).split(':')[1][3:5])\n",
    "    \n",
    "    crs = list(set(crs))\n",
    "    \n",
    "    if '42' in crs:\n",
    "        utm42n.append(polygon_id)\n",
    "    \n",
    "    if '43' in crs:\n",
    "        utm43n.append(polygon_id)\n",
    "    \n",
    "    if '44' in crs:\n",
    "        utm44n.append(polygon_id)\n",
    "    \n",
    "    print('\\n')\n",
    "\n",
    "print(utm42n)\n",
    "print(utm43n)\n",
    "print(utm44n)"
   ]
  },
  {
   "cell_type": "code",
   "execution_count": null,
   "id": "a03fa1ad",
   "metadata": {},
   "outputs": [],
   "source": [
    "aoi_utm42n = aoi.iloc[utm42n]\n",
    "for idx, row in enumerate(aoi_utm42n.iterrows()):\n",
    "    polygon_id = row[0]\n",
    "    description = 'Sentinel-2_YG_Mosaic_bgrnir_UTM42N_' + str(polygon_id)\n",
    "    name = 'planet_processing/data/yg_train_regions/sentinel_data/' + description\n",
    "    img_geometry = [[[x, y] for x, y in list(aoi.geometry[polygon_id].exterior.coords)]]\n",
    "    \n",
    "    # Export 2017-2021 growing season Sentinel-2 Mosaic to Drive\n",
    "    task = ee.batch.Export.image.toCloudStorage(\n",
    "        image = s2_mosaic,\n",
    "        description = description,\n",
    "        bucket = 'abrupt_thaw',\n",
    "        fileNamePrefix = name,\n",
    "        crs = 'EPSG:32642',\n",
    "        scale = 10,\n",
    "        maxPixels = 1e13,\n",
    "        region = img_geometry,\n",
    "        fileFormat = 'GeoTIFF',\n",
    "        formatOptions = {\n",
    "            'cloudOptimized': True\n",
    "        }\n",
    "    )\n",
    "    task.start()\n",
    "    "
   ]
  },
  {
   "cell_type": "code",
   "execution_count": null,
   "id": "1e529cc6",
   "metadata": {
    "scrolled": true
   },
   "outputs": [],
   "source": [
    "aoi_utm43n = aoi.iloc[utm43n]\n",
    "for idx, row in enumerate(aoi_utm43n.iterrows()):\n",
    "    polygon_id = row[0]\n",
    "    description = 'Sentinel-2_YG_Mosaic_bgrnir_UTM43N_' + str(polygon_id)\n",
    "    name = 'planet_processing/data/yg_train_regions/sentinel_data/' + description\n",
    "    img_geometry = [[[x, y] for x, y in list(aoi.geometry[polygon_id].exterior.coords)]]\n",
    "    \n",
    "    # Export 2017-2021 growing season Sentinel-2 Mosaic to Drive\n",
    "    task = ee.batch.Export.image.toCloudStorage(\n",
    "        image = s2_mosaic,\n",
    "        description = description,\n",
    "        bucket = 'abrupt_thaw',\n",
    "        fileNamePrefix = name,\n",
    "        crs = 'EPSG:32643',\n",
    "        scale = 10,\n",
    "        maxPixels = 1e13,\n",
    "        region = img_geometry,\n",
    "        fileFormat = 'GeoTIFF',\n",
    "        formatOptions = {\n",
    "            'cloudOptimized': True\n",
    "        }\n",
    "    )\n",
    "    task.start()"
   ]
  },
  {
   "cell_type": "code",
   "execution_count": null,
   "id": "1443befd",
   "metadata": {},
   "outputs": [],
   "source": [
    "aoi_utm44n = aoi.iloc[utm44n]\n",
    "for idx, row in enumerate(aoi_utm44n.iterrows()):\n",
    "    polygon_id = row[0]\n",
    "    description = 'Sentinel-2_YG_Mosaic_bgrnir_UTM44N_' + str(polygon_id)\n",
    "    name = 'planet_processing/data/yg_train_regions/sentinel_data/' + description\n",
    "    img_geometry = [[[x, y] for x, y in list(aoi.geometry[polygon_id].exterior.coords)]]\n",
    "    \n",
    "    # Export 2017-2021 growing season Sentinel-2 Mosaic to Drive\n",
    "    task = ee.batch.Export.image.toCloudStorage(\n",
    "        image = s2_mosaic,\n",
    "        description = description,\n",
    "        bucket = 'abrupt_thaw',\n",
    "        fileNamePrefix = name,\n",
    "        crs = 'EPSG:32644',\n",
    "        scale = 10,\n",
    "        maxPixels = 1e13,\n",
    "        region = img_geometry,\n",
    "        fileFormat = 'GeoTIFF',\n",
    "        formatOptions = {\n",
    "            'cloudOptimized': True\n",
    "        }\n",
    "    )\n",
    "    task.start()"
   ]
  },
  {
   "cell_type": "code",
   "execution_count": null,
   "id": "f02415b2",
   "metadata": {},
   "outputs": [],
   "source": []
  }
 ],
 "metadata": {
  "kernelspec": {
   "display_name": "Python 3 (ipykernel)",
   "language": "python",
   "name": "python3"
  },
  "language_info": {
   "codemirror_mode": {
    "name": "ipython",
    "version": 3
   },
   "file_extension": ".py",
   "mimetype": "text/x-python",
   "name": "python",
   "nbconvert_exporter": "python",
   "pygments_lexer": "ipython3",
   "version": "3.8.13"
  },
  "varInspector": {
   "cols": {
    "lenName": 16,
    "lenType": 16,
    "lenVar": 40
   },
   "kernels_config": {
    "python": {
     "delete_cmd_postfix": "",
     "delete_cmd_prefix": "del ",
     "library": "var_list.py",
     "varRefreshCmd": "print(var_dic_list())"
    },
    "r": {
     "delete_cmd_postfix": ") ",
     "delete_cmd_prefix": "rm(",
     "library": "var_list.r",
     "varRefreshCmd": "cat(var_dic_list()) "
    }
   },
   "types_to_exclude": [
    "module",
    "function",
    "builtin_function_or_method",
    "instance",
    "_Feature"
   ],
   "window_display": false
  }
 },
 "nbformat": 4,
 "nbformat_minor": 5
}
