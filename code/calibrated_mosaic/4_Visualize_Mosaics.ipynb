{
 "cells": [
  {
   "cell_type": "code",
   "execution_count": null,
   "id": "1f0d78a8",
   "metadata": {},
   "outputs": [],
   "source": [
    "import ee\n",
    "ee.Initialize()"
   ]
  },
  {
   "cell_type": "code",
   "execution_count": null,
   "id": "8eeecd4d",
   "metadata": {},
   "outputs": [],
   "source": [
    "# Import Libraries\n",
    "import geemap"
   ]
  },
  {
   "cell_type": "code",
   "execution_count": null,
   "id": "30d1aa30",
   "metadata": {},
   "outputs": [],
   "source": [
    "# Import Data\n",
    "# Maxar\n",
    "maxar = ee.Image(\"users/gfiske/FrostCraters/maxar_imagery_v2\");\n",
    "\n",
    "# Pre calibration\n",
    "# median\n",
    "pre_cal_median_2017 = ee.Image('users/hrodenhizer-woodwellclimate/planet_imagery_initial_composites/planet_composite_2017')\n",
    "pre_cal_median_2018 = ee.Image('users/hrodenhizer-woodwellclimate/planet_imagery_initial_composites/planet_composite_2018')\n",
    "pre_cal_median_2019 = ee.Image('users/hrodenhizer-woodwellclimate/planet_imagery_initial_composites/planet_composite_2019')\n",
    "pre_cal_median_2020 = ee.Image('users/hrodenhizer-woodwellclimate/planet_imagery_initial_composites/planet_composite_2020')\n",
    "pre_cal_median_2021 = ee.Image('users/hrodenhizer-woodwellclimate/planet_imagery_initial_composites/planet_composite_2021')\n",
    "\n",
    "# Post calibration\n",
    "# median\n",
    "median_2017 = ee.Image('projects/abruptthawmapping/assets/planet_median_calibrated_2017')\n",
    "median_2018 = ee.Image('projects/abruptthawmapping/assets/planet_median_calibrated_2018')\n",
    "median_2019 = ee.Image('projects/abruptthawmapping/assets/planet_median_calibrated_2019')\n",
    "median_2020 = ee.Image('projects/abruptthawmapping/assets/planet_median_calibrated_2020')\n",
    "median_2021 = ee.Image('projects/abruptthawmapping/assets/planet_median_calibrated_2021')\n",
    "median_all = ee.Image('projects/abruptthawmapping/assets/planet_median_calibrated_all')\n",
    "# 25th percentile\n",
    "p25_2017 = ee.Image('projects/abruptthawmapping/assets/planet_25th_percentile_calibrated_2017')\n",
    "p25_2018 = ee.Image('projects/abruptthawmapping/assets/planet_25th_percentile_calibrated_2018')\n",
    "p25_2019 = ee.Image('projects/abruptthawmapping/assets/planet_25th_percentile_calibrated_2019')\n",
    "p25_2020 = ee.Image('projects/abruptthawmapping/assets/planet_25th_percentile_calibrated_2020')\n",
    "p25_2021 = ee.Image('projects/abruptthawmapping/assets/planet_25th_percentile_calibrated_2021')\n",
    "p25_all = ee.Image('projects/abruptthawmapping/assets/planet_25th_percentile_calibrated_all')\n",
    "\n",
    "# Polygons\n",
    "polygons = ee.FeatureCollection('users/gfiske/FrostCraters/rts_polygons_for_Yili_Apr_2022').filterMetadata('code_id', 'equals', 1)"
   ]
  },
  {
   "cell_type": "code",
   "execution_count": null,
   "id": "48dd9dc1",
   "metadata": {},
   "outputs": [],
   "source": [
    "# Prep Map\n",
    "Map_median_pre = geemap.Map()\n",
    "Map_median_pre.centerObject(pre_cal_median_2017)\n",
    "Map_median = geemap.Map()\n",
    "Map_median.centerObject(median_2017)\n",
    "Map_p25 = geemap.Map()\n",
    "Map_p25.centerObject(p25_2017)"
   ]
  },
  {
   "cell_type": "code",
   "execution_count": null,
   "id": "0ef25b40",
   "metadata": {},
   "outputs": [],
   "source": [
    "# Set visualization parameters\n",
    "vis_params = {\n",
    "    'min': [100, 100, 200],'max': [1000, 1100, 580],\n",
    "    'bands': ['b3', 'b2', 'b1'],\n",
    "    'gamma': 0.9\n",
    "}"
   ]
  },
  {
   "cell_type": "code",
   "execution_count": null,
   "id": "801215d7",
   "metadata": {},
   "outputs": [],
   "source": [
    "# Add layers\n",
    "# Add Maxar to all maps\n",
    "Map_median_pre.addLayer(maxar, {'min':8, 'max':192}, 'Maxar')\n",
    "Map_median.addLayer(maxar, {'min':8, 'max':192}, 'Maxar')\n",
    "Map_p25.addLayer(maxar, {'min':8, 'max':192}, 'Maxar')\n",
    "\n",
    "# add pre-calibration median mosaics\n",
    "Map_median_pre.addLayer(pre_cal_median_2017, vis_params, 'Pre-Calibration Median 2017')\n",
    "Map_median_pre.addLayer(pre_cal_median_2018, vis_params, 'Pre-Calibration Median 2018')\n",
    "Map_median_pre.addLayer(pre_cal_median_2019, vis_params, 'Pre-Calibration Median 2019')\n",
    "Map_median_pre.addLayer(pre_cal_median_2020, vis_params, 'Pre-Calibration Median 2020')\n",
    "Map_median_pre.addLayer(pre_cal_median_2021, vis_params, 'Pre-Calibration Median 2021')\n",
    "\n",
    "# add Median mosaics\n",
    "Map_median.addLayer(median_2017, vis_params, 'Median 2017')\n",
    "Map_median.addLayer(median_2018, vis_params, 'Median 2018')\n",
    "Map_median.addLayer(median_2019, vis_params, 'Median 2019')\n",
    "Map_median.addLayer(median_2020, vis_params, 'Median 2020')\n",
    "Map_median.addLayer(median_2021, vis_params, 'Median 2021')\n",
    "Map_median.addLayer(median_all, vis_params, 'Median 2017-2021')\n",
    "\n",
    "# add p25 mosaics\n",
    "Map_p25.addLayer(p25_2017, vis_params, '25th Percentile 2017')\n",
    "Map_p25.addLayer(p25_2018, vis_params, '25th Percentile 2018')\n",
    "Map_p25.addLayer(p25_2019, vis_params, '25th Percentile 2019')\n",
    "Map_p25.addLayer(p25_2020, vis_params, '25th Percentile 2020')\n",
    "Map_p25.addLayer(p25_2021, vis_params, '25th Percentile 2021')\n",
    "Map_p25.addLayer(p25_all, vis_params, '25th Percentile 2017-2021')\n",
    "\n",
    "# Add Polygons to all maps\n",
    "Map_median_pre.addLayer(polygons, {'color': 'FF0000'}, 'Polygons')\n",
    "Map_median.addLayer(polygons, {'color': 'FF0000'}, 'Polygons')\n",
    "Map_p25.addLayer(polygons, {'color': 'FF0000'}, 'Polygons')"
   ]
  },
  {
   "cell_type": "code",
   "execution_count": null,
   "id": "a1f92fb6",
   "metadata": {},
   "outputs": [],
   "source": [
    "# Display pre-calibration median map\n",
    "Map_median_pre"
   ]
  },
  {
   "cell_type": "code",
   "execution_count": null,
   "id": "9a57d651",
   "metadata": {
    "scrolled": false
   },
   "outputs": [],
   "source": [
    "# Display median map\n",
    "Map_median"
   ]
  },
  {
   "cell_type": "code",
   "execution_count": null,
   "id": "8355e7e2",
   "metadata": {},
   "outputs": [],
   "source": [
    "# Display p25 Map\n",
    "Map_p25"
   ]
  },
  {
   "cell_type": "code",
   "execution_count": null,
   "id": "790caa40",
   "metadata": {},
   "outputs": [],
   "source": []
  }
 ],
 "metadata": {
  "kernelspec": {
   "display_name": "Python 3 (ipykernel)",
   "language": "python",
   "name": "python3"
  },
  "language_info": {
   "codemirror_mode": {
    "name": "ipython",
    "version": 3
   },
   "file_extension": ".py",
   "mimetype": "text/x-python",
   "name": "python",
   "nbconvert_exporter": "python",
   "pygments_lexer": "ipython3",
   "version": "3.8.13"
  },
  "varInspector": {
   "cols": {
    "lenName": 16,
    "lenType": 16,
    "lenVar": 40
   },
   "kernels_config": {
    "python": {
     "delete_cmd_postfix": "",
     "delete_cmd_prefix": "del ",
     "library": "var_list.py",
     "varRefreshCmd": "print(var_dic_list())"
    },
    "r": {
     "delete_cmd_postfix": ") ",
     "delete_cmd_prefix": "rm(",
     "library": "var_list.r",
     "varRefreshCmd": "cat(var_dic_list()) "
    }
   },
   "types_to_exclude": [
    "module",
    "function",
    "builtin_function_or_method",
    "instance",
    "_Feature"
   ],
   "window_display": false
  }
 },
 "nbformat": 4,
 "nbformat_minor": 5
}
