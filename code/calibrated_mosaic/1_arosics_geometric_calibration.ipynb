{
 "cells": [
  {
   "cell_type": "code",
   "execution_count": null,
   "id": "35a79a90",
   "metadata": {
    "code_folding": []
   },
   "outputs": [],
   "source": [
    "import xarray as xr\n",
    "import rioxarray as rxr\n",
    "from geoarray import GeoArray\n",
    "from arosics import COREG\n",
    "from arosics import COREG_LOCAL\n",
    "import os\n",
    "import re"
   ]
  },
  {
   "cell_type": "code",
   "execution_count": null,
   "id": "d1e2f7e6",
   "metadata": {
    "scrolled": true
   },
   "outputs": [],
   "source": [
    "# Read in data\n",
    "ref = '/home/hrodenhizer/Documents/permafrost_pathways/rts_mapping/planet_processing_test/data/sentinel_data/Sentinel-2_2021_Yamal_GS_Mosaic_bgrnir_UTM42N.tif'\n",
    "tgt_dir = '/home/hrodenhizer/Documents/permafrost_pathways/rts_mapping/planet_processing_test/data/planet_data/initial_data_download/files/'\n",
    "tgt_files = [file for file in os.listdir(tgt_dir) if re.match('.*SR.*tif$', file)]\n",
    "tgt_files.sort()\n",
    "udm_files = [file for file in os.listdir(tgt_dir) if re.match('.*udm2.*tif$', file)]\n",
    "udm_files.sort()\n",
    "mask_dir = '/home/hrodenhizer/Documents/permafrost_pathways/rts_mapping/planet_processing_test/data/planet_data/initial_data_download/masked_files/'\n",
    "out_dir = '/home/hrodenhizer/Documents/permafrost_pathways/rts_mapping/planet_processing_test/data/calibrated_composite/arosics_output/calibrated_files/'\n",
    "out_fig_dir = '/home/hrodenhizer/Documents/permafrost_pathways/rts_mapping/planet_processing_test/data/calibrated_composite/arosics_output/figures/'\n",
    "print(len(tgt_files), len(udm_files))\n",
    "tgt_files"
   ]
  },
  {
   "cell_type": "code",
   "execution_count": null,
   "id": "767f5ddd",
   "metadata": {
    "scrolled": true
   },
   "outputs": [],
   "source": [
    "for tgt_file, udm_file in zip(tgt_files, udm_files):\n",
    "    \n",
    "    # Mask imagery using clear mask\n",
    "    tgt_file_full = tgt_dir + tgt_file\n",
    "    udm_file_full = tgt_dir + udm_file\n",
    "    tgt = rxr.open_rasterio(tgt_file_full)\n",
    "    udm = rxr.open_rasterio(udm_file_full).sel(band = 1)\n",
    "    tgt = tgt.where(tgt != 0)\n",
    "    tgt = tgt.where(udm != 0)\n",
    "    tgt.rio.to_raster(mask_dir + tgt_file[0:-4] + '_masked.tif')\n",
    "    \n",
    "    # Apply AROSICS correction from red band to all bands\n",
    "    tgt_file_full = mask_dir + tgt_file[0:-4] + '_masked.tif'\n",
    "    out_path = out_dir + tgt_file[0:-4] + '_arosics.tif'\n",
    "    out_fig_path = out_fig_dir + tgt_file[0:-4] + '_coreg_points.tif'\n",
    "    kwargs = {\n",
    "        'grid_res'     : 200, # can make this larger to improve run time\n",
    "        'window_size'  : (200, 200), # A larger window size could slow things down, but too small might lead to less accurate alignment\n",
    "        'q'            : False,\n",
    "        'r_b4match'    : 3,\n",
    "        's_b4match'    : 3,\n",
    "        'path_out'     : out_path,\n",
    "        'fmt_out'      : 'GTiff',\n",
    "        'CPUs'         : 19\n",
    "    }\n",
    "    tgt_cal = COREG_LOCAL(ref, tgt_file_full, **kwargs)\n",
    "    tgt_cal.correct_shifts(min_points_local_corr = 4)\n",
    "    tgt_cal.view_CoRegPoints(savefigPath = out_fig_path)\n",
    "    "
   ]
  },
  {
   "cell_type": "code",
   "execution_count": null,
   "id": "0d3301cb",
   "metadata": {},
   "outputs": [],
   "source": []
  }
 ],
 "metadata": {
  "kernelspec": {
   "display_name": "Python 3 (ipykernel)",
   "language": "python",
   "name": "python3"
  },
  "language_info": {
   "codemirror_mode": {
    "name": "ipython",
    "version": 3
   },
   "file_extension": ".py",
   "mimetype": "text/x-python",
   "name": "python",
   "nbconvert_exporter": "python",
   "pygments_lexer": "ipython3",
   "version": "3.8.13"
  },
  "varInspector": {
   "cols": {
    "lenName": 16,
    "lenType": 16,
    "lenVar": 40
   },
   "kernels_config": {
    "python": {
     "delete_cmd_postfix": "",
     "delete_cmd_prefix": "del ",
     "library": "var_list.py",
     "varRefreshCmd": "print(var_dic_list())"
    },
    "r": {
     "delete_cmd_postfix": ") ",
     "delete_cmd_prefix": "rm(",
     "library": "var_list.r",
     "varRefreshCmd": "cat(var_dic_list()) "
    }
   },
   "position": {
    "height": "880.85px",
    "left": "1550px",
    "right": "20px",
    "top": "120px",
    "width": "350px"
   },
   "types_to_exclude": [
    "module",
    "function",
    "builtin_function_or_method",
    "instance",
    "_Feature"
   ],
   "window_display": true
  }
 },
 "nbformat": 4,
 "nbformat_minor": 5
}
