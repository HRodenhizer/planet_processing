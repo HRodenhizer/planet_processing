{
 "cells": [
  {
   "cell_type": "markdown",
   "id": "79239afb",
   "metadata": {},
   "source": [
    "# Create Annual Calibrated Composite Images for Each RTS Polygon\n",
    "### To Do:\n",
    "- get code to iterate over years automatically\n",
    "- make videos to illustrate composite images with increasing numbers of images for each polygon id and year?"
   ]
  },
  {
   "cell_type": "markdown",
   "id": "dcc4c23e",
   "metadata": {},
   "source": [
    "## Set Up Environment"
   ]
  },
  {
   "cell_type": "code",
   "execution_count": null,
   "id": "7f44ceec",
   "metadata": {},
   "outputs": [],
   "source": [
    "import ee\n",
    "ee.Initialize()"
   ]
  },
  {
   "cell_type": "code",
   "execution_count": null,
   "id": "caf3a9d1",
   "metadata": {},
   "outputs": [],
   "source": [
    "# Import Libraries\n",
    "import geemap\n",
    "import os\n",
    "from pprint import pprint\n",
    "import numpy as np\n",
    "import pandas as pd\n",
    "import geopandas as gpd\n",
    "import shapely as shp\n",
    "import xarray as xr\n",
    "import rioxarray as rxr\n",
    "from datetime import datetime\n",
    "from collections import Counter\n",
    "import re"
   ]
  },
  {
   "cell_type": "markdown",
   "id": "aa75a44b",
   "metadata": {},
   "source": [
    "## Import Data and Prepare Visualization Parameters"
   ]
  },
  {
   "cell_type": "code",
   "execution_count": null,
   "id": "581ae341",
   "metadata": {},
   "outputs": [],
   "source": [
    "# Import Data\n",
    "yamal = ee.ImageCollection('projects/abruptthawmapping/assets/yg_polygons_imagery_calibrated')\n",
    "polygons = ee.FeatureCollection('users/gfiske/FrostCraters/rts_polygons_for_Yili_Apr_2022').filterMetadata('code_id', 'equals', 1)\n",
    "\n",
    "# Prep Map\n",
    "Map = geemap.Map()\n",
    "Map.centerObject(yamal)"
   ]
  },
  {
   "cell_type": "code",
   "execution_count": null,
   "id": "26b542ec",
   "metadata": {},
   "outputs": [],
   "source": [
    "# View the imagery\n",
    "vis_params_imagery = {\n",
    "    'min': [470, 415, 280],'max': [1180, 930, 750],\n",
    "    'bands': ['b3', 'b2', 'b1'],\n",
    "    'gamma': 0.9\n",
    "}"
   ]
  },
  {
   "cell_type": "markdown",
   "id": "486cbb80",
   "metadata": {},
   "source": [
    "## Prepare Data"
   ]
  },
  {
   "cell_type": "code",
   "execution_count": null,
   "id": "2c8ba62c",
   "metadata": {},
   "outputs": [],
   "source": [
    "# Mask the data to values greater than 0 (which is how nodata gets imported into GEE by default)\n",
    "def mask_0(image):\n",
    "    mask = image.gt(0)\n",
    "    return image.updateMask(mask)\n",
    "\n",
    "yamal = yamal.map(mask_0)"
   ]
  },
  {
   "cell_type": "code",
   "execution_count": null,
   "id": "f2c2cd13",
   "metadata": {},
   "outputs": [],
   "source": [
    "# Set Properties to allow filtering\n",
    "def setID(image):\n",
    "    img_id = image.id();\n",
    "    img_prop = image.setMulti({'ID': img_id});\n",
    "    img_prop = ee.Image(img_prop);\n",
    "    return img_prop;\n",
    "\n",
    "\n",
    "yamal = yamal.map(setID);"
   ]
  },
  {
   "cell_type": "code",
   "execution_count": null,
   "id": "5b5b4b88",
   "metadata": {},
   "outputs": [],
   "source": [
    "# check that all of the files got imported into EE\n",
    "cal_files = os.listdir('/home/hrodenhizer/Documents/permafrost_pathways/rts_mapping/planet_processing_test/data/automated_download/mad_output/calibrated_files/')\n",
    "cal_files = sorted(cal_files)\n",
    "cal_files = [filepath[0:-4] for filepath in cal_files]\n",
    "len(cal_files)\n",
    "ee_files = yamal.aggregate_array('ID').getInfo()\n",
    "len(ee_files)\n",
    "# output from this should be empty\n",
    "[file for file in cal_files if file not in ee_files]"
   ]
  },
  {
   "cell_type": "code",
   "execution_count": null,
   "id": "63399b30",
   "metadata": {
    "scrolled": true
   },
   "outputs": [],
   "source": [
    "# Create list of polygon ID and year combinations\n",
    "polygon_ids = list(range(0, 68))\n",
    "polygon_ids_rep = polygon_ids*4\n",
    "years = np.repeat(list(range(2018, 2022)), 68)\n",
    "names = [str(pid) + '_' + str(year) for pid, year in zip (polygon_ids_rep, years)]\n",
    "id_year_combos = ee.List(names) # names[0:106] is the most images I can include without blowing a User Memory Limit Exceeded error\n",
    "# pprint(id_year_combos.getInfo())"
   ]
  },
  {
   "cell_type": "markdown",
   "id": "0584fd30",
   "metadata": {},
   "source": [
    "## Create Annual Composites"
   ]
  },
  {
   "cell_type": "code",
   "execution_count": null,
   "id": "aa827c11",
   "metadata": {
    "scrolled": true
   },
   "outputs": [],
   "source": [
    "# create a composite image for each polygon ID and year\n",
    "# I can't figure out a way to do this without splitting up the years manually, because I keep getting\n",
    "# User Memory Limit Exceeded errors\n",
    "def create_composite_by_group(current, previous):\n",
    "    return (ee.List(previous)\n",
    "            .add(yamal.filter(ee.Filter.stringStartsWith('ID', ee.String(current)))\n",
    "                 .median())\n",
    "           )\n",
    "\n",
    "planet_composites_2018 = ee.List(\n",
    "    ee.List(names[0:68])\n",
    "    .iterate(create_composite_by_group, ee.List([]))\n",
    ")\n",
    "planet_composites_2019 = ee.List(\n",
    "    ee.List(names[68:136])\n",
    "    .iterate(create_composite_by_group, ee.List([]))\n",
    ")\n",
    "planet_composites_2020 = ee.List(\n",
    "    ee.List(names[136:204])\n",
    "    .iterate(create_composite_by_group, ee.List([]))\n",
    ")\n",
    "planet_composites_2021 = ee.List(\n",
    "    ee.List(names[204:272])\n",
    "    .iterate(create_composite_by_group, ee.List([]))\n",
    ")"
   ]
  },
  {
   "cell_type": "markdown",
   "id": "f5891a1e",
   "metadata": {},
   "source": [
    "## Map Composites"
   ]
  },
  {
   "cell_type": "code",
   "execution_count": null,
   "id": "35509278",
   "metadata": {
    "scrolled": true
   },
   "outputs": [],
   "source": [
    "# Add composites to the map as one layer\n",
    "Map.addLayer(ee.ImageCollection(planet_composites_2018),\n",
    "             vis_params_imagery,\n",
    "             '2018 Composites')\n",
    "Map.addLayer(ee.ImageCollection(planet_composites_2019),\n",
    "             vis_params_imagery,\n",
    "             '2019 Composites')\n",
    "Map.addLayer(ee.ImageCollection(planet_composites_2020),\n",
    "             vis_params_imagery,\n",
    "             '2020 Composites')\n",
    "Map.addLayer(ee.ImageCollection(planet_composites_2021),\n",
    "             vis_params_imagery,\n",
    "             '2021 Composites')"
   ]
  },
  {
   "cell_type": "code",
   "execution_count": null,
   "id": "911a3e22",
   "metadata": {},
   "outputs": [],
   "source": [
    "Map.addLayer(polygons, {'color': 'FF0000'}, 'RTS');"
   ]
  },
  {
   "cell_type": "code",
   "execution_count": null,
   "id": "e505ab32",
   "metadata": {
    "scrolled": false
   },
   "outputs": [],
   "source": [
    "Map"
   ]
  },
  {
   "cell_type": "markdown",
   "id": "189242e4",
   "metadata": {},
   "source": [
    "## Export Annual Composites"
   ]
  },
  {
   "cell_type": "code",
   "execution_count": null,
   "id": "83dd181b",
   "metadata": {},
   "outputs": [],
   "source": [
    "# Import shapefile with AOI (multipolygon)\n",
    "aoi = gpd.read_file(\"/home/hrodenhizer/Documents/permafrost_pathways/rts_mapping/planet_processing_test/data/automated_download/rts_buffer/RTS_buffer.shp\")\n",
    "# convert from multipolygon to multiple polygons\n",
    "aoi = aoi.explode(column = 'geometry', ignore_index = True)\n",
    "# remove inner holes\n",
    "aoi.geometry = aoi.geometry.exterior\n",
    "# convert back to polygon\n",
    "aoi.geometry = [shp.geometry.Polygon([shp.geometry.Point(x, y) for x, y in list(feature.coords)]) for feature in aoi.geometry]\n",
    "# convert to json for planet data search\n",
    "sites = json.loads(aoi.to_json()) # if multiple sites"
   ]
  },
  {
   "cell_type": "code",
   "execution_count": null,
   "id": "f5d74c9f",
   "metadata": {
    "scrolled": true
   },
   "outputs": [],
   "source": [
    "# # Export Composites to Drive\n",
    "# for pid in polygon_ids:\n",
    "#     print(datetime.now().time(), ' Getting info for pid ' + str(pid) + ', year 2018')\n",
    "#     image = ee.Image(planet_composites_2018.get(ee.Number(int(pid))))\n",
    "#     name = 'planet_composite_' + str(pid) + '_2018'\n",
    "#     geometry = sites['features'][pid]['geometry']['coordinates']\n",
    "#     scale = 3\n",
    "#     crs = (Counter([band['crs'] for image in (yamal\n",
    "#                                              .filter(ee.Filter.stringStartsWith('ID', ee.String(names[pid])))\n",
    "#                                              .getInfo()['features']) for band in image['bands']])\n",
    "#            .most_common(1)[0][0])\n",
    "#     print(datetime.now().time(), ' Beginning export for pid ' + str(pid) + ', year 2018')\n",
    "#     task = ee.batch.Export.image.toCloudStorage(\n",
    "#         image = image,\n",
    "#         description = name,\n",
    "#         bucket = 'abrupt_thaw',\n",
    "#         fileNamePrefix = 'yamal_gydan_polygons/calibrated_composites/' + name,\n",
    "#         crs = crs,\n",
    "#         region = geometry,\n",
    "#         scale = scale,\n",
    "#         maxPixels = 1e13,\n",
    "#         fileFormat = 'GeoTIFF'\n",
    "#     )\n",
    "#     task.start()\n",
    "\n",
    "# for pid in polygon_ids:\n",
    "#     print(datetime.now().time(), ' Getting info for pid ' + str(pid) + ', year 2019')\n",
    "#     image = ee.Image(planet_composites_2019.get(ee.Number(int(pid))))\n",
    "#     name = 'planet_composite_' + str(pid) + '_2019'\n",
    "#     geometry = sites['features'][pid]['geometry']['coordinates']\n",
    "#     scale = 3\n",
    "#     crs = (Counter([band['crs'] for image in (yamal\n",
    "#                                              .filter(ee.Filter.stringStartsWith('ID', ee.String(names[68 + pid])))\n",
    "#                                              .getInfo()['features']) for band in image['bands']])\n",
    "#            .most_common(1)[0][0])\n",
    "#     print(datetime.now().time(), ' Beginning export for pid ' + str(pid) + ', year 2019')\n",
    "#     task = ee.batch.Export.image.toCloudStorage(\n",
    "#         image = image,\n",
    "#         description = name,\n",
    "#         bucket = 'abrupt_thaw',\n",
    "#         fileNamePrefix = 'yamal_gydan_polygons/calibrated_composites/' + name,\n",
    "#         crs = crs,\n",
    "#         region = geometry,\n",
    "#         scale = scale,\n",
    "#         maxPixels = 1e13,\n",
    "#         fileFormat = 'GeoTIFF'\n",
    "#     )\n",
    "#     task.start()\n",
    "\n",
    "# for pid in polygon_ids:\n",
    "#     print(datetime.now().time(), ' Getting info for pid ' + str(pid) + ', year 2020')\n",
    "#     image = ee.Image(planet_composites_2020.get(ee.Number(int(pid))))\n",
    "#     name = 'planet_composite_' + str(pid) + '_2020'\n",
    "#     geometry = sites['features'][pid]['geometry']['coordinates']\n",
    "#     scale = 3\n",
    "#     crs = (Counter([band['crs'] for image in (yamal\n",
    "#                                              .filter(ee.Filter.stringStartsWith('ID', ee.String(names[68*2 + pid])))\n",
    "#                                              .getInfo()['features']) for band in image['bands']])\n",
    "#            .most_common(1)[0][0])\n",
    "#     print(datetime.now().time(), ' Beginning export for pid ' + str(pid) + ', year 2020')\n",
    "#     task = ee.batch.Export.image.toCloudStorage(\n",
    "#         image = image,\n",
    "#         description = name,\n",
    "#         bucket = 'abrupt_thaw',\n",
    "#         fileNamePrefix = 'yamal_gydan_polygons/calibrated_composites/' + name,\n",
    "#         crs = crs,\n",
    "#         region = geometry,\n",
    "#         scale = scale,\n",
    "#         maxPixels = 1e13,\n",
    "#         fileFormat = 'GeoTIFF'\n",
    "#     )\n",
    "#     task.start()\n",
    "\n",
    "# for pid in polygon_ids:\n",
    "#     print(datetime.now().time(), ' Getting info for pid ' + str(pid) + ', year 2021')\n",
    "#     image = ee.Image(planet_composites_2021.get(ee.Number(int(pid))))\n",
    "#     name = 'planet_composite_' + str(pid) + '_2021'\n",
    "#     geometry = sites['features'][pid]['geometry']['coordinates']\n",
    "#     scale = 3\n",
    "#     crs = (Counter([band['crs'] for image in (yamal\n",
    "#                                              .filter(ee.Filter.stringStartsWith('ID', ee.String(names[68*3 + pid])))\n",
    "#                                              .getInfo()['features']) for band in image['bands']])\n",
    "#            .most_common(1)[0][0])\n",
    "#     print(datetime.now().time(), ' Beginning export for pid ' + str(pid) + ', year 2021')\n",
    "#     task = ee.batch.Export.image.toCloudStorage(\n",
    "#         image = image,\n",
    "#         description = name,\n",
    "#         bucket = 'abrupt_thaw',\n",
    "#         fileNamePrefix = 'yamal_gydan_polygons/calibrated_composites/' + name,\n",
    "#         crs = crs,\n",
    "#         region = geometry,\n",
    "#         scale = scale,\n",
    "#         maxPixels = 1e13,\n",
    "#         fileFormat = 'GeoTIFF'\n",
    "#     )\n",
    "#     task.start()\n"
   ]
  },
  {
   "cell_type": "markdown",
   "id": "b72ac29a",
   "metadata": {},
   "source": [
    "## Try Fewer Images in Composites"
   ]
  },
  {
   "cell_type": "code",
   "execution_count": null,
   "id": "f6c99d08",
   "metadata": {},
   "outputs": [],
   "source": [
    "# load in file with image order\n",
    "image_order = pd.read_csv('/home/hrodenhizer/Documents/permafrost_pathways/rts_mapping/planet_processing_test/data/automated_download/planet_images_filtered.csv')\n",
    "ids_0_2018 = list(image_order[(image_order.polygon_id == 0) & (image_order.year == 2018)].id)\n",
    "ids_0_2018 = ['0_' + str(x) + '_3B_AnalyticMS_SR_clip_arosics_mad' for x in ids_0_2018][0:-1]\n",
    "pprint(ids_0_2018)\n",
    "ids_0_2018 = ee.List(ids_0_2018)"
   ]
  },
  {
   "cell_type": "code",
   "execution_count": null,
   "id": "08f15792",
   "metadata": {},
   "outputs": [],
   "source": [
    "# try removing images to figure out how many images are required for an image\n",
    "# very minimal difference with -1 and -2\n",
    "# noticeable difference, but not necessarily worse at -3, -4, -5, -6\n",
    "# image noticeably grainier at -7, -8 (= 5 and 4 images total, uncertain of coverage of each image)\n",
    "# pprint(yamal.getInfo())\n",
    "test = yamal.filter(ee.Filter.inList('ID', ids_0_2018))\n",
    "test.getInfo()\n",
    "test = test.median()\n",
    "Map.addLayer(test, vis_params_imagery, '0_2018 -1')"
   ]
  },
  {
   "cell_type": "code",
   "execution_count": null,
   "id": "2961c69b",
   "metadata": {
    "scrolled": false
   },
   "outputs": [],
   "source": []
  }
 ],
 "metadata": {
  "kernelspec": {
   "display_name": "Python 3 (ipykernel)",
   "language": "python",
   "name": "python3"
  },
  "language_info": {
   "codemirror_mode": {
    "name": "ipython",
    "version": 3
   },
   "file_extension": ".py",
   "mimetype": "text/x-python",
   "name": "python",
   "nbconvert_exporter": "python",
   "pygments_lexer": "ipython3",
   "version": "3.8.13"
  },
  "varInspector": {
   "cols": {
    "lenName": 16,
    "lenType": 16,
    "lenVar": 40
   },
   "kernels_config": {
    "python": {
     "delete_cmd_postfix": "",
     "delete_cmd_prefix": "del ",
     "library": "var_list.py",
     "varRefreshCmd": "print(var_dic_list())"
    },
    "r": {
     "delete_cmd_postfix": ") ",
     "delete_cmd_prefix": "rm(",
     "library": "var_list.r",
     "varRefreshCmd": "cat(var_dic_list()) "
    }
   },
   "types_to_exclude": [
    "module",
    "function",
    "builtin_function_or_method",
    "instance",
    "_Feature"
   ],
   "window_display": false
  }
 },
 "nbformat": 4,
 "nbformat_minor": 5
}
