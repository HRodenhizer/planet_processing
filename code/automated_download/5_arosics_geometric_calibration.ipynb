{
 "cells": [
  {
   "cell_type": "markdown",
   "id": "2dae655d",
   "metadata": {},
   "source": [
    "# Run AROSICS Geometric Calibration on Planet Images\n",
    "## TODO:\n",
    "- possible to get AROSICS to fail quietly?\n",
    "- delete masked file after running AROSICS"
   ]
  },
  {
   "cell_type": "markdown",
   "id": "d2308ab3",
   "metadata": {},
   "source": [
    "## Import Libraries"
   ]
  },
  {
   "cell_type": "code",
   "execution_count": null,
   "id": "35a79a90",
   "metadata": {
    "code_folding": []
   },
   "outputs": [],
   "source": [
    "import xarray as xr\n",
    "import rioxarray as rxr\n",
    "from geoarray import GeoArray\n",
    "from arosics import COREG\n",
    "from arosics import COREG_LOCAL\n",
    "import os\n",
    "import re\n",
    "from pprint import pprint"
   ]
  },
  {
   "cell_type": "markdown",
   "id": "b2067bae",
   "metadata": {},
   "source": [
    "## Define Functions"
   ]
  },
  {
   "cell_type": "code",
   "execution_count": null,
   "id": "de92c413",
   "metadata": {},
   "outputs": [],
   "source": [
    "def makemydir(dir_path):\n",
    "    try:\n",
    "        os.makedirs(dir_path)\n",
    "    except OSError:\n",
    "        pass\n",
    "    os.chdir(dir_path) # this changes the working directory - necessary?"
   ]
  },
  {
   "cell_type": "markdown",
   "id": "a446c1d9",
   "metadata": {},
   "source": [
    "## Define Directories and Load Data"
   ]
  },
  {
   "cell_type": "code",
   "execution_count": null,
   "id": "d1e2f7e6",
   "metadata": {
    "scrolled": true
   },
   "outputs": [],
   "source": [
    "# Read in data\n",
    "ref_dir = '/home/hrodenhizer/Documents/permafrost_pathways/rts_mapping/planet_processing_test/data/sentinel_data/yamal_gydan_polygons'\n",
    "base_dir = '/home/hrodenhizer/Documents/permafrost_pathways/rts_mapping/planet_processing_test/data/planet_data/yamal_gydan_polygons'\n",
    "ref_files = []\n",
    "for root, subdirs, files in os.walk(ref_dir):\n",
    "    for file in files:\n",
    "        if re.match('.*tif$', file):\n",
    "            ref_files.append(os.path.join(root, file))\n",
    "        \n",
    "tgt_files = []\n",
    "for root, subdirs, files in os.walk(base_dir):\n",
    "    for file in files:\n",
    "        if re.match('.*SR.*tif$', file):\n",
    "            tgt_files.append(os.path.join(root, file))\n",
    "            \n",
    "tgt_files = sorted(tgt_files)\n",
    "tgt_files = [file for file in tgt_files if not re.match('.*/2017/.*tif$', file)]\n",
    "            \n",
    "udm_files = []\n",
    "for root, subdirs, files in os.walk(base_dir):\n",
    "    for file in files:\n",
    "        if re.match('.*udm2.*tif$', file):\n",
    "            udm_files.append(os.path.join(root, file))\n",
    "            \n",
    "udm_files = sorted(udm_files)\n",
    "udm_files = [file for file in udm_files if not re.match('.*/2017/.*tif$', file)]\n",
    "\n",
    "pprint(len(tgt_files))\n",
    "pprint(len(udm_files))\n",
    "\n",
    "mask_dir = '/home/hrodenhizer/Documents/permafrost_pathways/rts_mapping/planet_processing_test/data/automated_download/arosics_output/masked_files/'\n",
    "makemydir(mask_dir)\n",
    "out_dir = '/home/hrodenhizer/Documents/permafrost_pathways/rts_mapping/planet_processing_test/data/automated_download/arosics_output/calibrated_files/'\n",
    "makemydir(out_dir)\n",
    "out_fig_dir = '/home/hrodenhizer/Documents/permafrost_pathways/rts_mapping/planet_processing_test/data/automated_download/arosics_output/figures/'\n",
    "makemydir(out_fig_dir)"
   ]
  },
  {
   "cell_type": "code",
   "execution_count": null,
   "id": "11e689fa",
   "metadata": {},
   "outputs": [],
   "source": [
    "tgt_files_subset = [filepath for filepath in tgt_files if re.match('.*/polygon_id_(5|6|7|8|9)/.*tif$', filepath)]\n",
    "print(len(tgt_files_subset))\n",
    "udm_files_subset = [filepath for filepath in udm_files if re.match('.*/polygon_id_(5|6|7|8|9)/.*tif$', filepath)]\n",
    "print(len(udm_files_subset))"
   ]
  },
  {
   "cell_type": "code",
   "execution_count": null,
   "id": "13c4432c",
   "metadata": {},
   "outputs": [],
   "source": [
    "start_idx = 0"
   ]
  },
  {
   "cell_type": "markdown",
   "id": "c439ece1",
   "metadata": {},
   "source": [
    "## Run AROSICS"
   ]
  },
  {
   "cell_type": "code",
   "execution_count": null,
   "id": "767f5ddd",
   "metadata": {
    "scrolled": true
   },
   "outputs": [],
   "source": [
    "for tgt_file, udm_file in zip(tgt_files_subset[start_idx:-1], udm_files_subset[start_idx:-1]):\n",
    "    \n",
    "    # get crs of tgt file to determine correct ref file\n",
    "    crs = str(rxr.open_rasterio(tgt_file).rio.crs).split(':')[1][3:5]\n",
    "    \n",
    "    # get correct ref file\n",
    "    polygon_id = tgt_file.split('/')[10].split('_')[2]\n",
    "    ref = [file for file in ref_files if re.match('.*' + crs + 'N_' + polygon_id + '.tif$', file)][0]\n",
    "    \n",
    "    # Mask imagery using clear mask\n",
    "    tgt = rxr.open_rasterio(tgt_file)\n",
    "    udm = rxr.open_rasterio(udm_file).sel(band = 1)\n",
    "    tgt = tgt.where(tgt != 0)\n",
    "    tgt = tgt.where(udm != 0)\n",
    "    \n",
    "    # save masked file\n",
    "    tgt.rio.to_raster(os.path.join(mask_dir, polygon_id + '_' + tgt_file.split('/')[-1][0:-4] + '_masked.tif'))\n",
    "    \n",
    "    # Apply AROSICS correction from red band to all bands\n",
    "    out_path = os.path.join(out_dir, polygon_id + '_' + tgt_file.split('/')[-1][0:-4] + '_arosics.tif')\n",
    "    out_fig_path = os.path.join(out_fig_dir, polygon_id + '_' + tgt_file.split('/')[-1][0:-4] + '_coreg_points.tif')\n",
    "    kwargs = {\n",
    "        'grid_res'     : 200, # can make this larger to improve run time\n",
    "        'window_size'  : (200, 200), # A larger window size could slow things down, but too small might lead to less accurate alignment\n",
    "        'q'            : False,\n",
    "        'r_b4match'    : 3,\n",
    "        's_b4match'    : 3,\n",
    "        'path_out'     : out_path,\n",
    "        'fmt_out'      : 'GTiff',\n",
    "        'CPUs'         : 19\n",
    "    }\n",
    "    tgt_cal = COREG_LOCAL(ref, tgt_file, **kwargs)\n",
    "    tgt_cal.correct_shifts(min_points_local_corr = 4)\n",
    "    tgt_cal.view_CoRegPoints(savefigPath = out_fig_path)\n",
    "    "
   ]
  },
  {
   "cell_type": "code",
   "execution_count": null,
   "id": "0d3301cb",
   "metadata": {
    "scrolled": false
   },
   "outputs": [],
   "source": [
    "# if the AROSICS processing loop stops running, and it's due to no tie points (too small, cloudy, etc.),\n",
    "# use this to skip the offending image and restart at the next image\n",
    "start_idx = [x for x in range(len(tgt_files_subset)) if tgt_files_subset[x] == tgt_file][0]+1\n",
    "start_idx"
   ]
  },
  {
   "cell_type": "code",
   "execution_count": null,
   "id": "419abb4a",
   "metadata": {},
   "outputs": [],
   "source": []
  }
 ],
 "metadata": {
  "kernelspec": {
   "display_name": "Python 3 (ipykernel)",
   "language": "python",
   "name": "python3"
  },
  "language_info": {
   "codemirror_mode": {
    "name": "ipython",
    "version": 3
   },
   "file_extension": ".py",
   "mimetype": "text/x-python",
   "name": "python",
   "nbconvert_exporter": "python",
   "pygments_lexer": "ipython3",
   "version": "3.8.13"
  },
  "varInspector": {
   "cols": {
    "lenName": 16,
    "lenType": 16,
    "lenVar": 40
   },
   "kernels_config": {
    "python": {
     "delete_cmd_postfix": "",
     "delete_cmd_prefix": "del ",
     "library": "var_list.py",
     "varRefreshCmd": "print(var_dic_list())"
    },
    "r": {
     "delete_cmd_postfix": ") ",
     "delete_cmd_prefix": "rm(",
     "library": "var_list.r",
     "varRefreshCmd": "cat(var_dic_list()) "
    }
   },
   "position": {
    "height": "880.85px",
    "left": "1550px",
    "right": "20px",
    "top": "120px",
    "width": "350px"
   },
   "types_to_exclude": [
    "module",
    "function",
    "builtin_function_or_method",
    "instance",
    "_Feature"
   ],
   "window_display": false
  }
 },
 "nbformat": 4,
 "nbformat_minor": 5
}
