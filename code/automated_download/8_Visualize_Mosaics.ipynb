{
 "cells": [
  {
   "cell_type": "code",
   "execution_count": null,
   "id": "1f0d78a8",
   "metadata": {},
   "outputs": [],
   "source": [
    "import ee\n",
    "ee.Initialize()"
   ]
  },
  {
   "cell_type": "code",
   "execution_count": null,
   "id": "8eeecd4d",
   "metadata": {},
   "outputs": [],
   "source": [
    "# Import Libraries\n",
    "import geemap"
   ]
  },
  {
   "cell_type": "code",
   "execution_count": null,
   "id": "30d1aa30",
   "metadata": {},
   "outputs": [],
   "source": [
    "# Import Data\n",
    "# Maxar\n",
    "maxar = ee.Image(\"users/gfiske/FrostCraters/maxar_imagery_v2\");\n",
    "\n",
    "# Planet\n",
    "planet = ee.ImageCollection('projects/abruptthawmapping/assets/yg_polygons_composites')\n",
    "\n",
    "# Polygons\n",
    "polygons = ee.FeatureCollection('users/gfiske/FrostCraters/rts_polygons_for_Yili_Apr_2022').filterMetadata('code_id', 'equals', 1)"
   ]
  },
  {
   "cell_type": "code",
   "execution_count": null,
   "id": "91b4a0ee",
   "metadata": {},
   "outputs": [],
   "source": [
    "# Get Sentinel-2 Mosaic to Compare, as well\n",
    "MAX_CLOUD_PROBABILITY = 50\n",
    "geometry = ee.Geometry({\n",
    "    'type': 'Polygon',\n",
    "    'coordinates': [[\n",
    "        [66, 66],\n",
    "        [66, 73.5],\n",
    "        [85, 73.5],\n",
    "        [85, 66],\n",
    "        [66, 66]\n",
    "        ]]\n",
    "})\n",
    "\n",
    "s2 = (\n",
    "    ee.ImageCollection('COPERNICUS/S2_SR_HARMONIZED')\n",
    "    .filterBounds(geometry)\n",
    "    .filterDate('2017-06-15', '2021-08-31')\n",
    "    .filter(ee.Filter.dayOfYear(135, 243))\n",
    ");\n",
    "\n",
    "s2_clouds = (\n",
    "    ee.ImageCollection('COPERNICUS/S2_CLOUD_PROBABILITY')\n",
    "    .filterBounds(geometry)\n",
    "    .filterDate('2017-06-15', '2021-08-31')\n",
    "    .filter(ee.Filter.dayOfYear(135, 243))\n",
    ");\n",
    "\n",
    "def s2_maskcloud(image):\n",
    "    \n",
    "    clouds = ee.Image(image.get('cloud_mask')).select('probability')\n",
    "    \n",
    "    isNotCloud = clouds.lt(MAX_CLOUD_PROBABILITY)\n",
    "    \n",
    "    return image.updateMask(isNotCloud)\n",
    "\n",
    "# Join S2 SR with cloud probability dataset to add cloud mask.\n",
    "s2_with_clouds = ee.Join.saveFirst('cloud_mask').apply(    \n",
    "  primary=s2,\n",
    "  secondary=s2_clouds,\n",
    "  condition=ee.Filter.equals(leftField='system:index', rightField='system:index'))\n",
    "\n",
    "s2_masked = ee.ImageCollection(s2_with_clouds).map(s2_maskcloud)\n",
    "\n",
    "s2_mosaic = (\n",
    "    s2_masked\n",
    "    .select(['B2', 'B3', 'B4', 'B8'])\n",
    "    .median()\n",
    "    .clip(geometry));"
   ]
  },
  {
   "cell_type": "code",
   "execution_count": null,
   "id": "cde3814d",
   "metadata": {},
   "outputs": [],
   "source": [
    "# Mask the data to values greater than 0 (which is how nodata gets imported into GEE by default)\n",
    "def mask_0(image):\n",
    "    mask = image.gt(0)\n",
    "    return image.updateMask(mask)\n",
    "\n",
    "planet = planet.map(mask_0)"
   ]
  },
  {
   "cell_type": "code",
   "execution_count": null,
   "id": "48b1f77c",
   "metadata": {},
   "outputs": [],
   "source": [
    "# Set Properties to allow filtering\n",
    "def setID(image):\n",
    "    img_id = image.id();\n",
    "    img_prop = image.setMulti({'ID': img_id});\n",
    "    img_prop = ee.Image(img_prop);\n",
    "    return img_prop;\n",
    "\n",
    "\n",
    "planet = planet.map(setID);"
   ]
  },
  {
   "cell_type": "code",
   "execution_count": null,
   "id": "48dd9dc1",
   "metadata": {},
   "outputs": [],
   "source": [
    "# Prep Map\n",
    "Map = geemap.Map()\n",
    "Map.centerObject(planet)"
   ]
  },
  {
   "cell_type": "code",
   "execution_count": null,
   "id": "92bf2fa7",
   "metadata": {},
   "outputs": [],
   "source": [
    "# Separate out Years\n",
    "planet_2018 = planet.filter(ee.Filter.stringEndsWith('ID', ee.String('2018')))\n",
    "planet_2019 = planet.filter(ee.Filter.stringEndsWith('ID', ee.String('2019')))\n",
    "planet_2020 = planet.filter(ee.Filter.stringEndsWith('ID', ee.String('2020')))\n",
    "planet_2021 = planet.filter(ee.Filter.stringEndsWith('ID', ee.String('2021')))"
   ]
  },
  {
   "cell_type": "code",
   "execution_count": null,
   "id": "38a092d3",
   "metadata": {},
   "outputs": [],
   "source": [
    "# Set visualization parameters\n",
    "vis_params = {\n",
    "    'min': [350, 325, 200],'max': [1200, 1175, 1000],\n",
    "    'bands': ['b3', 'b2', 'b1'],\n",
    "    'gamma': 1\n",
    "}"
   ]
  },
  {
   "cell_type": "code",
   "execution_count": null,
   "id": "801215d7",
   "metadata": {},
   "outputs": [],
   "source": [
    "# Add layers\n",
    "# Add Maxar to all maps\n",
    "Map.addLayer(maxar, {'min':8, 'max':192}, 'Maxar')\n",
    "\n",
    "# Add Sentinel-2 composite\n",
    "Map.addLayer(s2_mosaic, {'bands':['B4', 'B3', 'B2'], 'min':0, 'max':1200}, 'S2 All Years')\n",
    "\n",
    "# add Planet composites\n",
    "Map.addLayer(planet_2018, vis_params, 'Planet 2018')\n",
    "Map.addLayer(planet_2019, vis_params, 'Planet 2019')\n",
    "Map.addLayer(planet_2020, vis_params, 'Planet 2020')\n",
    "Map.addLayer(planet_2021, vis_params, 'Planet 2021')\n",
    "\n",
    "# add RTS Polygons\n",
    "Map.addLayer(polygons, {'color': 'red'}, 'RTS')"
   ]
  },
  {
   "cell_type": "code",
   "execution_count": null,
   "id": "a1f92fb6",
   "metadata": {},
   "outputs": [],
   "source": [
    "# Display the map\n",
    "Map"
   ]
  },
  {
   "cell_type": "code",
   "execution_count": null,
   "id": "790caa40",
   "metadata": {},
   "outputs": [],
   "source": []
  }
 ],
 "metadata": {
  "kernelspec": {
   "display_name": "Python 3 (ipykernel)",
   "language": "python",
   "name": "python3"
  },
  "language_info": {
   "codemirror_mode": {
    "name": "ipython",
    "version": 3
   },
   "file_extension": ".py",
   "mimetype": "text/x-python",
   "name": "python",
   "nbconvert_exporter": "python",
   "pygments_lexer": "ipython3",
   "version": "3.8.13"
  },
  "varInspector": {
   "cols": {
    "lenName": 16,
    "lenType": 16,
    "lenVar": 40
   },
   "kernels_config": {
    "python": {
     "delete_cmd_postfix": "",
     "delete_cmd_prefix": "del ",
     "library": "var_list.py",
     "varRefreshCmd": "print(var_dic_list())"
    },
    "r": {
     "delete_cmd_postfix": ") ",
     "delete_cmd_prefix": "rm(",
     "library": "var_list.r",
     "varRefreshCmd": "cat(var_dic_list()) "
    }
   },
   "types_to_exclude": [
    "module",
    "function",
    "builtin_function_or_method",
    "instance",
    "_Feature"
   ],
   "window_display": false
  }
 },
 "nbformat": 4,
 "nbformat_minor": 5
}
