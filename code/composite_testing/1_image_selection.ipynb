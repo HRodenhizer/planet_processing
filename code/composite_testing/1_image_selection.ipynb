{
 "cells": [
  {
   "cell_type": "markdown",
   "id": "79239afb",
   "metadata": {},
   "source": [
    "# Select Images for Composite Variations\n",
    "## TODO:\n",
    "- Split multipolygon in Nitze BBoxes\n",
    "- Right join IDs from ImageCollections to dataframe with footprints and bbox IDs\n",
    "- Do I actually need to read in the BBoxes separately, or can I use the info from the ImageCollection IDs?"
   ]
  },
  {
   "cell_type": "markdown",
   "id": "dcc4c23e",
   "metadata": {},
   "source": [
    "## Set Up Environment"
   ]
  },
  {
   "cell_type": "code",
   "execution_count": null,
   "id": "7f44ceec",
   "metadata": {},
   "outputs": [],
   "source": [
    "import ee\n",
    "ee.Initialize()"
   ]
  },
  {
   "cell_type": "code",
   "execution_count": null,
   "id": "caf3a9d1",
   "metadata": {},
   "outputs": [],
   "source": [
    "# Import Libraries\n",
    "import geemap\n",
    "from pprint import pprint\n",
    "import numpy as np\n",
    "import pandas as pd\n",
    "import geopandas as gpd\n",
    "import os\n",
    "import re\n",
    "from google.cloud import storage\n",
    "from natsort import natsorted"
   ]
  },
  {
   "cell_type": "code",
   "execution_count": null,
   "id": "beda10e3",
   "metadata": {},
   "outputs": [],
   "source": [
    "# Set up access to abrupt_thaw\n",
    "storage_client = storage.Client(project=\"AbruptThawMapping\")\n",
    "abrupt_thaw = storage_client.get_bucket('abrupt_thaw')"
   ]
  },
  {
   "cell_type": "markdown",
   "id": "a9913982",
   "metadata": {},
   "source": [
    "## Define Functions"
   ]
  },
  {
   "cell_type": "code",
   "execution_count": null,
   "id": "abebb7e9",
   "metadata": {},
   "outputs": [],
   "source": [
    "# apply image IDs to each image in the collection\n",
    "def setID(image):\n",
    "    img_id = image.id();\n",
    "    img_prop = image.setMulti({'ID': img_id});\n",
    "    img_prop = ee.Image(img_prop);\n",
    "    return img_prop;\n"
   ]
  },
  {
   "cell_type": "markdown",
   "id": "aa75a44b",
   "metadata": {},
   "source": [
    "## Import Data and Prepare Visualization Parameters"
   ]
  },
  {
   "cell_type": "code",
   "execution_count": null,
   "id": "f7f97a3d",
   "metadata": {},
   "outputs": [],
   "source": [
    "# Import Planet Data GCS\n",
    "train = ee.ImageCollection('projects/abruptthawmapping/assets/yg_train_regions_imagery_calibrated')\n",
    "train = train.map(setID)\n",
    "val = ee.ImageCollection('projects/abruptthawmapping/assets/yg_val_regions_imagery_calibrated')\n",
    "val = val.map(setID)\n",
    "nitze = ee.ImageCollection('projects/abruptthawmapping/assets/nitze_regions_imagery_calibrated')\n",
    "nitze = nitze.map(setID)\n"
   ]
  },
  {
   "cell_type": "code",
   "execution_count": null,
   "id": "262ff2fc",
   "metadata": {},
   "outputs": [],
   "source": [
    "# Get Image IDs and BBox IDs from ImageCollection IDs\n",
    "yg_train_images = pd.DataFrame({'img_id': natsorted(train.aggregate_array('ID').getInfo())})\n",
    "yg_train_images['bbox_id'] = [re.split('_\\d{8}_', img_id)[0] for img_id in yg_train_images.img_id]\n",
    "yg_train_images['img_id'] = [\n",
    "    re.split(\n",
    "        '_3B.+_mad$',\n",
    "        re.split('^\\d+_', \n",
    "                 img_id)[1]\n",
    "    )[0] \n",
    "    for img_id in yg_train_images.img_id]\n",
    "\n",
    "yg_val_images = pd.DataFrame({'img_id': natsorted(val.aggregate_array('ID').getInfo())})\n",
    "yg_val_images['bbox_id'] = [re.split('_\\d{8}_', img_id)[0] for img_id in yg_val_images.img_id]\n",
    "yg_val_images['img_id'] = [\n",
    "    re.split(\n",
    "        '_3B.+_mad$',\n",
    "        re.split('^\\d+_', \n",
    "                 img_id)[1]\n",
    "    )[0] \n",
    "    for img_id in yg_val_images.img_id]\n",
    "\n",
    "nitze_images = pd.DataFrame({'img_id': natsorted(nitze.aggregate_array('ID').getInfo())})\n",
    "nitze_images['bbox_id'] = [re.split('_\\d{8}_', img_id)[0] for img_id in nitze_images.img_id]\n",
    "nitze_images['img_id'] = [\n",
    "    re.split(\n",
    "        '_3B.+_mad$',\n",
    "        re.split('^\\d+_', \n",
    "                 img_id)[1]\n",
    "    )[0] \n",
    "    for img_id in nitze_images.img_id]"
   ]
  },
  {
   "cell_type": "code",
   "execution_count": null,
   "id": "1e00742f",
   "metadata": {},
   "outputs": [],
   "source": [
    "yg_train_images.iloc[-2:-1]"
   ]
  },
  {
   "cell_type": "code",
   "execution_count": null,
   "id": "b68e2170",
   "metadata": {},
   "outputs": [],
   "source": [
    "yg_val_images.iloc[-2:-1]"
   ]
  },
  {
   "cell_type": "code",
   "execution_count": null,
   "id": "18b8c1fc",
   "metadata": {},
   "outputs": [],
   "source": [
    "nitze_images.iloc[-2:-1]"
   ]
  },
  {
   "cell_type": "code",
   "execution_count": null,
   "id": "f312971a",
   "metadata": {},
   "outputs": [],
   "source": [
    "# Import Bounding Boxes\n",
    "yg_train_bboxes = gpd.read_file(\"../../data/yg_train_regions/bboxes/RTS_buffer_separate.shp\")\n",
    "yg_val_bboxes = gpd.read_file(\"../../data/yg_val_regions/bboxes/yg_validation_bboxes.shp\")\n",
    "nitze_bboxes = gpd.read_file(\"../../data/nitze_regions/bboxes/nitze_bbox_water_removed.shp\")"
   ]
  },
  {
   "cell_type": "code",
   "execution_count": null,
   "id": "01be8cad",
   "metadata": {},
   "outputs": [],
   "source": [
    "nitze_bboxes"
   ]
  },
  {
   "cell_type": "code",
   "execution_count": null,
   "id": "89f9598a",
   "metadata": {},
   "outputs": [],
   "source": [
    "# Import Image Footprints\n",
    "dir_path = (\"../../data/yg_val_regions/image_footprints/\")\n",
    "val_footprint_paths = []\n",
    "for root, subdirs, files in os.walk(dir_path):\n",
    "    for file in files:\n",
    "        if re.match('.*shp$', file):\n",
    "            val_footprint_paths.append(os.path.join(root, file))\n",
    "pprint(val_footprint_paths)\n",
    "\n",
    "yg_val_footprints = gpd.read_file(val_footprint_paths[0])\n",
    "\n",
    "dir_path = (\"../../data/nitze_regions/image_footprints/\")\n",
    "files = storage_client.list_blobs(\"abrupt_thaw\", prefix = dir_path)\n",
    "nitze_footprint_paths = []\n",
    "for root, subdirs, files in os.walk(dir_path):\n",
    "    for file in files:\n",
    "        if re.match('.*[^(old)].shp$', file):\n",
    "            nitze_footprint_paths.append(os.path.join(root, file))\n",
    "pprint(nitze_footprint_paths)\n",
    "\n",
    "nitze_footprints = gpd.GeoDataFrame()\n",
    "for file in nitze_footprint_paths:\n",
    "    data = gpd.read_file(file)\n",
    "    nitze_footprints = pd.concat([nitze_footprints, data], ignore_index = True)\n"
   ]
  },
  {
   "cell_type": "code",
   "execution_count": null,
   "id": "5bcf8625",
   "metadata": {},
   "outputs": [],
   "source": [
    "yg_val_footprints"
   ]
  },
  {
   "cell_type": "code",
   "execution_count": null,
   "id": "287c4604",
   "metadata": {},
   "outputs": [],
   "source": [
    "nitze_footprints"
   ]
  },
  {
   "cell_type": "code",
   "execution_count": null,
   "id": "26b542ec",
   "metadata": {},
   "outputs": [],
   "source": [
    "# View the imagery\n",
    "vis_params_imagery = {\n",
    "    'min': 0,'max': 1200,\n",
    "    'bands': ['red', 'green', 'blue'],\n",
    "    'gamma': 0.9\n",
    "}"
   ]
  },
  {
   "cell_type": "markdown",
   "id": "fd715765",
   "metadata": {},
   "source": [
    "## Select Images"
   ]
  },
  {
   "cell_type": "code",
   "execution_count": null,
   "id": "00895f42",
   "metadata": {
    "scrolled": true
   },
   "outputs": [],
   "source": [
    "# Join Footprints with bboxes\n",
    "yg_val_footprints = yg_val_footprints.sjoin(yg_val_bboxes.to_crs(yg_val_footprints.crs), \n",
    "                                            how = 'left')\n",
    "yg_val_footprints = yg_val_footprints.rename(columns={\"index_right\": \"bbox_id\"})\n",
    "yg_val_footprints['dataset'] = 'yg_val'\n",
    "yg_val_footprints\n",
    "\n",
    "nitze_footprints = nitze_footprints.sjoin(nitze_bboxes.to_crs(nitze_footprints.crs), \n",
    "                                            how = 'left')\n",
    "nitze_footprints = nitze_footprints.rename(columns={\"index_right\": \"bbox_id\"})\n",
    "nitze_footprints['dataset'] = 'nitze'\n",
    "nitze_footprints"
   ]
  },
  {
   "cell_type": "code",
   "execution_count": null,
   "id": "136d61cb",
   "metadata": {},
   "outputs": [],
   "source": [
    "test = yg_val_footprints.merge(yg_val_images,\n",
    "                               how = 'right',\n",
    "                               on = [])"
   ]
  },
  {
   "cell_type": "markdown",
   "id": "0584fd30",
   "metadata": {},
   "source": [
    "## Create Composites"
   ]
  },
  {
   "cell_type": "code",
   "execution_count": null,
   "id": "aa827c11",
   "metadata": {
    "scrolled": true
   },
   "outputs": [],
   "source": [
    "# create a composite image across all regions for just 2019 and for 2018 and 2019 combined\n",
    "planet_2019 = planet.filter(ee.Filter.stringContains('ID', '2019'))\n",
    "\n",
    "planet_composites_all = planet.median()\n",
    "planet_composites_2019 = planet_2019.median()"
   ]
  },
  {
   "cell_type": "markdown",
   "id": "f5891a1e",
   "metadata": {},
   "source": [
    "## Map Composites"
   ]
  },
  {
   "cell_type": "code",
   "execution_count": null,
   "id": "0d5629ec",
   "metadata": {},
   "outputs": [],
   "source": [
    "# Prep Map\n",
    "Map = geemap.Map()\n",
    "Map.centerObject(planet_composites_2019)"
   ]
  },
  {
   "cell_type": "code",
   "execution_count": null,
   "id": "35509278",
   "metadata": {
    "scrolled": true
   },
   "outputs": [],
   "source": [
    "# Add composites to the map as one layer\n",
    "Map.addLayer(ee.ImageCollection(planet_composites_2019),\n",
    "             vis_params_imagery,\n",
    "             '2019 Composites')\n",
    "Map.addLayer(ee.ImageCollection(planet_composites_all),\n",
    "             vis_params_imagery,\n",
    "             '2018 +2019 Composites')"
   ]
  },
  {
   "cell_type": "code",
   "execution_count": null,
   "id": "e505ab32",
   "metadata": {
    "scrolled": false
   },
   "outputs": [],
   "source": [
    "Map"
   ]
  },
  {
   "cell_type": "markdown",
   "id": "189242e4",
   "metadata": {},
   "source": [
    "## Export Annual Composites"
   ]
  },
  {
   "cell_type": "code",
   "execution_count": null,
   "id": "83dd181b",
   "metadata": {},
   "outputs": [],
   "source": [
    "# Import shapefile with AOI (multipolygon)\n",
    "aoi = gpd.read_file(\"/home/hrodenhizer/Documents/permafrost_pathways/rts_mapping/planet_processing_test/data/nitze_regions/bboxes/nitze_bbox_water_removed.shp\")\n",
    "# convert from multipolygon to multiple polygons\n",
    "aoi = aoi.explode(column = 'geometry', ignore_index = True)\n",
    "# remove inner holes\n",
    "aoi.geometry = aoi.geometry.exterior\n",
    "# convert back to polygon\n",
    "aoi.geometry = [shp.geometry.Polygon([shp.geometry.Point(x, y) for x, y in list(feature.coords)]) for feature in aoi.geometry]\n",
    "aoi['region'] = list(range(0, 7))\n",
    "# convert to json for planet data search\n",
    "sites = json.loads(aoi.to_json()) # if multiple sites\n",
    "aoi"
   ]
  },
  {
   "cell_type": "code",
   "execution_count": null,
   "id": "9e64e0fa",
   "metadata": {},
   "outputs": [],
   "source": [
    "zones = pd.DataFrame(columns = ['region', 'utm_zone'])\n",
    "for idx, region in enumerate(aoi.geometry):\n",
    "    region_zones = []\n",
    "    for x, y in zip(region.exterior.coords.xy[0], region.exterior.coords.xy[1]):\n",
    "        region_zones.append(utm_from_wgs84(x, y))\n",
    "        \n",
    "    region_zones = round(statistics.median(region_zones))\n",
    "    temp_df = pd.DataFrame({'region': [idx],\n",
    "                            'utm_zone': [region_zones]})\n",
    "    zones = pd.concat([zones, temp_df])\n",
    "zones = zones.set_index('region')  \n",
    "zones"
   ]
  },
  {
   "cell_type": "code",
   "execution_count": null,
   "id": "f5d74c9f",
   "metadata": {
    "scrolled": true
   },
   "outputs": [],
   "source": [
    "# Export Composites to Drive\n",
    "for row in aoi.iterrows():\n",
    "    pprint(row)\n",
    "    region = row[1]['region']\n",
    "    name = 'nitze_regions_' + str(region) + '_2019_composite'\n",
    "    geometry = sites['features'][region]['geometry']['coordinates']\n",
    "    crs = 'EPSG:' + str(zones.iloc[region].utm_zone)\n",
    "    print(crs)\n",
    "    task = ee.batch.Export.image.toCloudStorage(\n",
    "        image = planet_composites_2019,\n",
    "        description = name,\n",
    "        bucket = 'abrupt_thaw',\n",
    "        fileNamePrefix = 'planet_processing/data/nitze_regions/calibrated_composites/' + name,\n",
    "        crs = crs,\n",
    "        region = geometry,\n",
    "        scale = 3,\n",
    "        maxPixels = 1e13,\n",
    "        fileFormat = 'GeoTIFF',\n",
    "        formatOptions = {'cloudOptimized': True}\n",
    "    )\n",
    "    task.start()"
   ]
  },
  {
   "cell_type": "code",
   "execution_count": null,
   "id": "d4792eeb",
   "metadata": {
    "scrolled": true
   },
   "outputs": [],
   "source": [
    "# Export Composites to Drive (composites include 2018 images)\n",
    "for row in aoi.iterrows():\n",
    "    pprint(row)\n",
    "    region = row[1]['region']\n",
    "    name = 'nitze_regions_' + str(region) + '_all_composite'\n",
    "    geometry = sites['features'][region]['geometry']['coordinates']\n",
    "    crs = 'EPSG:' + str(zones.iloc[region].utm_zone)\n",
    "    print(crs)\n",
    "    task = ee.batch.Export.image.toCloudStorage(\n",
    "        image = planet_composites_all,\n",
    "        description = name,\n",
    "        bucket = 'abrupt_thaw',\n",
    "        fileNamePrefix = 'planet_processing/data/nitze_regions/calibrated_composites/' + name,\n",
    "        crs = crs,\n",
    "        region = geometry,\n",
    "        scale = 3,\n",
    "        maxPixels = 1e13,\n",
    "        fileFormat = 'GeoTIFF',\n",
    "        formatOptions = {'cloudOptimized': True}\n",
    "    )\n",
    "    task.start()"
   ]
  },
  {
   "cell_type": "code",
   "execution_count": null,
   "id": "2961c69b",
   "metadata": {
    "scrolled": false
   },
   "outputs": [],
   "source": []
  }
 ],
 "metadata": {
  "kernelspec": {
   "display_name": "Python 3 (ipykernel)",
   "language": "python",
   "name": "python3"
  },
  "language_info": {
   "codemirror_mode": {
    "name": "ipython",
    "version": 3
   },
   "file_extension": ".py",
   "mimetype": "text/x-python",
   "name": "python",
   "nbconvert_exporter": "python",
   "pygments_lexer": "ipython3",
   "version": "3.8.13"
  },
  "varInspector": {
   "cols": {
    "lenName": 16,
    "lenType": 16,
    "lenVar": 40
   },
   "kernels_config": {
    "python": {
     "delete_cmd_postfix": "",
     "delete_cmd_prefix": "del ",
     "library": "var_list.py",
     "varRefreshCmd": "print(var_dic_list())"
    },
    "r": {
     "delete_cmd_postfix": ") ",
     "delete_cmd_prefix": "rm(",
     "library": "var_list.r",
     "varRefreshCmd": "cat(var_dic_list()) "
    }
   },
   "types_to_exclude": [
    "module",
    "function",
    "builtin_function_or_method",
    "instance",
    "_Feature"
   ],
   "window_display": false
  }
 },
 "nbformat": 4,
 "nbformat_minor": 5
}
