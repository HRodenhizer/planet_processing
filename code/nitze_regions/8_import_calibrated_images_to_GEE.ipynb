{
 "cells": [
  {
   "cell_type": "markdown",
   "id": "4217e446",
   "metadata": {},
   "source": [
    "# Import Calibrated Images into GEE as a Cloud GeoTiff Backed ImageCollection\n",
    "https://developers.google.com/earth-engine/Earth_Engine_asset_from_cloud_geotiff"
   ]
  },
  {
   "cell_type": "markdown",
   "id": "59637ab7",
   "metadata": {},
   "source": [
    "## Set Up Environment"
   ]
  },
  {
   "cell_type": "code",
   "execution_count": null,
   "id": "69a3d4bf",
   "metadata": {},
   "outputs": [],
   "source": [
    "import ee\n",
    "from google.auth.transport.requests import AuthorizedSession\n",
    "ee.Initialize()\n",
    "session = AuthorizedSession(ee.data.get_persistent_credentials())"
   ]
  },
  {
   "cell_type": "code",
   "execution_count": null,
   "id": "7cdee6c7",
   "metadata": {},
   "outputs": [],
   "source": [
    "import re\n",
    "from google.cloud import storage\n",
    "from pprint import pprint"
   ]
  },
  {
   "cell_type": "code",
   "execution_count": null,
   "id": "13fe0aaf",
   "metadata": {},
   "outputs": [],
   "source": [
    "# Set up access to abrupt_thaw\n",
    "storage_client = storage.Client(project=\"AbruptThawMapping\")\n",
    "abrupt_thaw = storage_client.get_bucket('abrupt_thaw')"
   ]
  },
  {
   "cell_type": "markdown",
   "id": "1f006129",
   "metadata": {},
   "source": [
    "## Import Images into GEE\n",
    "Note: an empty ImageCollection with the right name needs to be created ahead of time"
   ]
  },
  {
   "cell_type": "code",
   "execution_count": null,
   "id": "eda9a42a",
   "metadata": {},
   "outputs": [],
   "source": [
    "# Get paths to calibrated images\n",
    "dir_path = (\"planet_processing/data/nitze_regions/mad_output/calibrated_files/\")\n",
    "\n",
    "gcs_files = storage_client.list_blobs(\"abrupt_thaw\", prefix = dir_path)\n",
    "image_paths = []\n",
    "for file in gcs_files:\n",
    "    if re.match('.*SR.*tif$', file.name):\n",
    "        image_paths.append('gs://abrupt_thaw/' + file.name)\n",
    "\n",
    "ids = [path.split('/')[-1][0:-4] for path in image_paths]\n",
    "print(len(image_paths))\n",
    "print(image_paths[0])\n",
    "print(ids[0])"
   ]
  },
  {
   "cell_type": "code",
   "execution_count": null,
   "id": "c23addcd",
   "metadata": {},
   "outputs": [],
   "source": [
    "# Earth Engine enabled Cloud Project.\n",
    "project_folder = 'abruptthawmapping'\n",
    "\n",
    "for image, current_id in zip(image_paths, ids):\n",
    "    # The request\n",
    "    request = {\n",
    "      'type': 'IMAGE',\n",
    "      'gcs_location': {\n",
    "        'uris': image\n",
    "      }\n",
    "    }\n",
    "\n",
    "    # A folder (or ImageCollection) name and the new asset name.\n",
    "    asset_id = 'nitze_regions_imagery_calibrated/{}'\n",
    "    asset_id = asset_id.format(current_id)\n",
    "\n",
    "    url = 'https://earthengine.googleapis.com/v1alpha/projects/{}/assets?assetId={}'\n",
    "\n",
    "    response = session.post(\n",
    "      url = url.format(project_folder, asset_id),\n",
    "      data = json.dumps(request)\n",
    "    )\n",
    "\n",
    "    pprint(json.loads(response.content))\n"
   ]
  },
  {
   "cell_type": "code",
   "execution_count": null,
   "id": "572254a4",
   "metadata": {},
   "outputs": [],
   "source": []
  }
 ],
 "metadata": {
  "kernelspec": {
   "display_name": "Python 3 (ipykernel)",
   "language": "python",
   "name": "python3"
  },
  "language_info": {
   "codemirror_mode": {
    "name": "ipython",
    "version": 3
   },
   "file_extension": ".py",
   "mimetype": "text/x-python",
   "name": "python",
   "nbconvert_exporter": "python",
   "pygments_lexer": "ipython3",
   "version": "3.8.13"
  },
  "varInspector": {
   "cols": {
    "lenName": 16,
    "lenType": 16,
    "lenVar": 40
   },
   "kernels_config": {
    "python": {
     "delete_cmd_postfix": "",
     "delete_cmd_prefix": "del ",
     "library": "var_list.py",
     "varRefreshCmd": "print(var_dic_list())"
    },
    "r": {
     "delete_cmd_postfix": ") ",
     "delete_cmd_prefix": "rm(",
     "library": "var_list.r",
     "varRefreshCmd": "cat(var_dic_list()) "
    }
   },
   "types_to_exclude": [
    "module",
    "function",
    "builtin_function_or_method",
    "instance",
    "_Feature"
   ],
   "window_display": false
  }
 },
 "nbformat": 4,
 "nbformat_minor": 5
}
