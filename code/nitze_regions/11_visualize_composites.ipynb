{
 "cells": [
  {
   "cell_type": "markdown",
   "id": "65ccdc2a",
   "metadata": {},
   "source": [
    "# Visualize Planet Composite Images"
   ]
  },
  {
   "cell_type": "code",
   "execution_count": null,
   "id": "1f0d78a8",
   "metadata": {},
   "outputs": [],
   "source": [
    "import ee\n",
    "ee.Initialize()"
   ]
  },
  {
   "cell_type": "code",
   "execution_count": null,
   "id": "8eeecd4d",
   "metadata": {},
   "outputs": [],
   "source": [
    "# Import Libraries\n",
    "import geemap\n",
    "import re\n",
    "from google.cloud import storage\n",
    "from pprint import pprint"
   ]
  },
  {
   "cell_type": "code",
   "execution_count": null,
   "id": "963e4392",
   "metadata": {},
   "outputs": [],
   "source": [
    "# Set up access to abrupt_thaw\n",
    "storage_client = storage.Client(project=\"AbruptThawMapping\")\n",
    "abrupt_thaw = storage_client.get_bucket('abrupt_thaw')"
   ]
  },
  {
   "cell_type": "markdown",
   "id": "a5f0f435",
   "metadata": {},
   "source": [
    "## Define Functions"
   ]
  },
  {
   "cell_type": "code",
   "execution_count": null,
   "id": "0a650f1a",
   "metadata": {},
   "outputs": [],
   "source": [
    "# apply image IDs to each image in the collection\n",
    "def setID(image):\n",
    "    img_id = image.id();\n",
    "    img_prop = image.setMulti({'ID': img_id});\n",
    "    img_prop = ee.Image(img_prop);\n",
    "    return img_prop;"
   ]
  },
  {
   "cell_type": "code",
   "execution_count": null,
   "id": "ba6631f1",
   "metadata": {},
   "outputs": [],
   "source": [
    "# Mask the data to values greater than 0 (which is how nodata gets imported into GEE by default)\n",
    "def mask_0(image):\n",
    "    mask = image.gt(0)\n",
    "    return image.updateMask(mask)"
   ]
  },
  {
   "cell_type": "markdown",
   "id": "e7513a5c",
   "metadata": {},
   "source": [
    "## Import Data"
   ]
  },
  {
   "cell_type": "code",
   "execution_count": null,
   "id": "0eb375d7",
   "metadata": {},
   "outputs": [],
   "source": [
    "# Import Planet Data\n",
    "planet = ee.ImageCollection('projects/abruptthawmapping/assets/nitze_regions_composites')\n",
    "planet = planet.map(setID)\n",
    "\n",
    "# Import Sentinel Data\n",
    "s2 = ee.ImageCollection('projects/abruptthawmapping/assets/nitze_regions_sentinel_reference')\n",
    "s2 = s2.map(setID)\n",
    "\n",
    "# Polygons\n",
    "polygons = ee.FeatureCollection('users/gfiske/FrostCraters/rts_polygons_in_Nitze_areas_for_Yili_Mar_2022')"
   ]
  },
  {
   "cell_type": "code",
   "execution_count": null,
   "id": "48b1f77c",
   "metadata": {},
   "outputs": [],
   "source": [
    "# Filter to look at composites which include both 2019 and 2018 images\n",
    "planet = planet.filter(ee.Filter(ee.Filter.stringContains('ID', 'all'))).median()\n",
    "# pprint(planet.aggregate_array('ID').getInfo())"
   ]
  },
  {
   "cell_type": "code",
   "execution_count": null,
   "id": "48dd9dc1",
   "metadata": {},
   "outputs": [],
   "source": [
    "# Prep Map\n",
    "Map = geemap.Map()\n",
    "Map.centerObject(planet)"
   ]
  },
  {
   "cell_type": "code",
   "execution_count": null,
   "id": "38a092d3",
   "metadata": {},
   "outputs": [],
   "source": [
    "# Set visualization parameters\n",
    "vis_params = {\n",
    "    'min': 0,'max': 1200,\n",
    "    'bands': ['b3', 'b2', 'b1'],\n",
    "    'gamma': 1\n",
    "}"
   ]
  },
  {
   "cell_type": "code",
   "execution_count": null,
   "id": "801215d7",
   "metadata": {},
   "outputs": [],
   "source": [
    "# Add layers\n",
    "# Add Sentinel-2 composite\n",
    "Map.addLayer(s2.median(), {'bands':['B4', 'B3', 'B2'], 'min':0, 'max':1200}, 'S2 All Years')\n",
    "\n",
    "# add Planet composites\n",
    "Map.addLayer(planet, vis_params, 'Planet')\n",
    "\n",
    "# add RTS Polygons\n",
    "Map.addLayer(polygons, {'color': 'red'}, 'RTS')"
   ]
  },
  {
   "cell_type": "code",
   "execution_count": null,
   "id": "a1f92fb6",
   "metadata": {},
   "outputs": [],
   "source": [
    "# Display the map\n",
    "Map"
   ]
  },
  {
   "cell_type": "code",
   "execution_count": null,
   "id": "790caa40",
   "metadata": {},
   "outputs": [],
   "source": []
  }
 ],
 "metadata": {
  "kernelspec": {
   "display_name": "Python 3 (ipykernel)",
   "language": "python",
   "name": "python3"
  },
  "language_info": {
   "codemirror_mode": {
    "name": "ipython",
    "version": 3
   },
   "file_extension": ".py",
   "mimetype": "text/x-python",
   "name": "python",
   "nbconvert_exporter": "python",
   "pygments_lexer": "ipython3",
   "version": "3.8.13"
  },
  "varInspector": {
   "cols": {
    "lenName": 16,
    "lenType": 16,
    "lenVar": 40
   },
   "kernels_config": {
    "python": {
     "delete_cmd_postfix": "",
     "delete_cmd_prefix": "del ",
     "library": "var_list.py",
     "varRefreshCmd": "print(var_dic_list())"
    },
    "r": {
     "delete_cmd_postfix": ") ",
     "delete_cmd_prefix": "rm(",
     "library": "var_list.r",
     "varRefreshCmd": "cat(var_dic_list()) "
    }
   },
   "types_to_exclude": [
    "module",
    "function",
    "builtin_function_or_method",
    "instance",
    "_Feature"
   ],
   "window_display": false
  }
 },
 "nbformat": 4,
 "nbformat_minor": 5
}
