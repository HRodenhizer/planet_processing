{
 "cells": [
  {
   "cell_type": "markdown",
   "id": "e308c5de",
   "metadata": {},
   "source": [
    "# Export Bounding Boxes for Yamal Gydan RTS Polygons"
   ]
  },
  {
   "cell_type": "code",
   "execution_count": null,
   "id": "e9fc3849",
   "metadata": {},
   "outputs": [],
   "source": [
    "# Start Earth Engine API\n",
    "import ee\n",
    "ee.Initialize()"
   ]
  },
  {
   "cell_type": "code",
   "execution_count": null,
   "id": "7b1c9547",
   "metadata": {},
   "outputs": [],
   "source": [
    "# Import Libraries\n",
    "import geemap\n",
    "from pprint import pprint"
   ]
  },
  {
   "cell_type": "code",
   "execution_count": null,
   "id": "4cbe932e",
   "metadata": {},
   "outputs": [],
   "source": [
    "# Read in RTS polygons\n",
    "polys = (ee.FeatureCollection('users/gfiske/FrostCraters/rts_polygons_for_Yili_May_2022')\n",
    "         .filter(ee.Filter.bounds(ee.Geometry.BBox(65, 68, 81, 73))));"
   ]
  },
  {
   "cell_type": "code",
   "execution_count": null,
   "id": "33f1fc22",
   "metadata": {},
   "outputs": [],
   "source": [
    "# Prep Map\n",
    "Map = geemap.Map()\n",
    "Map.setCenter(73, 70.5, 7);\n"
   ]
  },
  {
   "cell_type": "code",
   "execution_count": null,
   "id": "77b5b398",
   "metadata": {},
   "outputs": [],
   "source": [
    "# Create and buffer bounding boxes\n",
    "def bbox(feature):\n",
    "    return ee.Feature(feature.buffer(1500).bounds());\n",
    "\n",
    "bboxes = polys.map(bbox);\n",
    "pprint(bboxes.getInfo());\n",
    "Map.addLayer(bboxes, {'color': 'black'}, 'bboxes');"
   ]
  },
  {
   "cell_type": "code",
   "execution_count": null,
   "id": "7c37dd0b",
   "metadata": {},
   "outputs": [],
   "source": [
    "# Group clumps of data (manually) to create regions\n",
    "# that cover all of the polygons\n",
    "# Yamal\n",
    "yamal_1 = ee.FeatureCollection(bboxes\n",
    "  .filter(ee.Filter.bounds(ee.Geometry.BBox(67.25, 70.5, 68.25, 70.85)))\n",
    "  .geometry()\n",
    "  .bounds());\n",
    "# Map.addLayer(ee.Geometry.BBox(67.25, 70.5, 68.25, 70.85), \n",
    "#             {'color': 'turquoise'}, \n",
    "#             'yamal_1_bbox');\n",
    "Map.addLayer(yamal_1, {'color': 'turquoise'}, 'yamal_1');\n",
    "\n",
    "yamal_2 = ee.FeatureCollection(bboxes\n",
    "  .filter(ee.Filter.bounds(ee.Geometry.BBox(69, 70, 69.75, 70.25)))\n",
    "  .geometry()\n",
    "  .bounds());\n",
    "# Map.addLayer(ee.Geometry.BBox(69, 70, 69.75, 70.25), \n",
    "#             {'color': 'green'}, \n",
    "#             'yamal_2_bbox');\n",
    "Map.addLayer(yamal_2, {'color': 'green'}, 'yamal_2');\n",
    "\n",
    "# Gydan\n",
    "gydan_1 = ee.FeatureCollection(bboxes\n",
    "  .filter(ee.Filter.bounds(ee.Geometry.BBox(76, 70.15, 77, 70.55)))\n",
    "  .geometry()\n",
    "  .bounds());\n",
    "# Map.addLayer(ee.Geometry.BBox(76, 70.15, 77, 70.55), \n",
    "#             {'color': 'yellow'}, \n",
    "#             'gydan_1_bbox');\n",
    "Map.addLayer(gydan_1, {'color': 'yellow'}, 'gydan_1');\n",
    "\n",
    "gydan_2 = ee.FeatureCollection(bboxes\n",
    "  .filter(ee.Filter.bounds(ee.Geometry.BBox(78.3, 70.3, 79.3, 70.6)))\n",
    "  .geometry()\n",
    "  .bounds());\n",
    "# Map.addLayer(ee.Geometry.BBox(78.3, 70.3, 79.3, 70.6), \n",
    "#             {'color': 'orange'}, \n",
    "#             'gydan_2_bbox');\n",
    "Map.addLayer(gydan_2, {'color': 'orange'}, 'gydan_2');"
   ]
  },
  {
   "cell_type": "code",
   "execution_count": null,
   "id": "6de1c89f",
   "metadata": {},
   "outputs": [],
   "source": [
    "# Join separate regions into one feature for export\n",
    "bboxes = (ee.FeatureCollection([yamal_1, yamal_2, gydan_1, gydan_2])\n",
    "  .flatten());\n",
    "print(bboxes);\n",
    "Map.addLayer(bboxes, {'color': 'black'}, 'All');\n",
    "Map.addLayer(polys, {'color': 'red'}, 'polys');"
   ]
  },
  {
   "cell_type": "code",
   "execution_count": null,
   "id": "880d26ee",
   "metadata": {},
   "outputs": [],
   "source": [
    "Map"
   ]
  },
  {
   "cell_type": "code",
   "execution_count": null,
   "id": "bc718f8b",
   "metadata": {},
   "outputs": [],
   "source": [
    "# # Export the bounding boxes\n",
    "# Export.table.toDrive(polys, \n",
    "#                      'rts_polygons_for_Yili_May_2022', \n",
    "#                      'Earth Engine Exports', \n",
    "#                      'rts_polygons_for_Yili_May_2022', \n",
    "#                      'SHP');\n",
    "# Export.table.toDrive(yamal_1, \n",
    "#                      'yamal_1_rts_polygons_for_Yili_May_2022', \n",
    "#                      'Earth Engine Exports', \n",
    "#                      'yamal_1_rts_polygons_for_Yili_May_2022', \n",
    "#                      'SHP');\n",
    "# Export.table.toDrive(yamal_2, \n",
    "#                      'yamal_2_rts_polygons_for_Yili_May_2022', \n",
    "#                      'Earth Engine Exports', \n",
    "#                      'yamal_2_rts_polygons_for_Yili_May_2022', \n",
    "#                      'SHP');\n",
    "# Export.table.toDrive(gydan_1, \n",
    "#                      'gydan_1_rts_polygons_for_Yili_May_2022', \n",
    "#                      'Earth Engine Exports', \n",
    "#                      'gydan_1_rts_polygons_for_Yili_May_2022', \n",
    "#                      'SHP');\n",
    "# Export.table.toDrive(gydan_2, \n",
    "#                      'gydan_2_rts_polygons_for_Yili_May_2022', \n",
    "#                      'Earth Engine Exports', \n",
    "#                      'gydan_2_rts_polygons_for_Yili_May_2022', \n",
    "#                      'SHP');\n",
    "# Export.table.toDrive(bboxes, \n",
    "#                      'yg_validation_bboxes', \n",
    "#                      'Earth Engine Exports', \n",
    "#                      'yg_validation_bboxes', \n",
    "#                      'SHP');"
   ]
  }
 ],
 "metadata": {
  "kernelspec": {
   "display_name": "Python 3 (ipykernel)",
   "language": "python",
   "name": "python3"
  },
  "language_info": {
   "codemirror_mode": {
    "name": "ipython",
    "version": 3
   },
   "file_extension": ".py",
   "mimetype": "text/x-python",
   "name": "python",
   "nbconvert_exporter": "python",
   "pygments_lexer": "ipython3",
   "version": "3.8.13"
  },
  "varInspector": {
   "cols": {
    "lenName": 16,
    "lenType": 16,
    "lenVar": 40
   },
   "kernels_config": {
    "python": {
     "delete_cmd_postfix": "",
     "delete_cmd_prefix": "del ",
     "library": "var_list.py",
     "varRefreshCmd": "print(var_dic_list())"
    },
    "r": {
     "delete_cmd_postfix": ") ",
     "delete_cmd_prefix": "rm(",
     "library": "var_list.r",
     "varRefreshCmd": "cat(var_dic_list()) "
    }
   },
   "types_to_exclude": [
    "module",
    "function",
    "builtin_function_or_method",
    "instance",
    "_Feature"
   ],
   "window_display": false
  }
 },
 "nbformat": 4,
 "nbformat_minor": 5
}
