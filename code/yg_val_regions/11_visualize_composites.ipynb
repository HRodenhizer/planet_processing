{
 "cells": [
  {
   "cell_type": "markdown",
   "id": "1b53e8f0",
   "metadata": {},
   "source": [
    "# Visualize the Composite Images"
   ]
  },
  {
   "cell_type": "markdown",
   "id": "f79a2e51",
   "metadata": {},
   "source": [
    "## Environment Set Up"
   ]
  },
  {
   "cell_type": "code",
   "execution_count": null,
   "id": "1f0d78a8",
   "metadata": {},
   "outputs": [],
   "source": [
    "import ee\n",
    "ee.Initialize()"
   ]
  },
  {
   "cell_type": "code",
   "execution_count": null,
   "id": "8eeecd4d",
   "metadata": {},
   "outputs": [],
   "source": [
    "# Import Libraries\n",
    "import geemap\n",
    "from google.cloud import storage\n",
    "import re"
   ]
  },
  {
   "cell_type": "code",
   "execution_count": null,
   "id": "47afe8a8",
   "metadata": {},
   "outputs": [],
   "source": [
    "# Set up access to abrupt_thaw\n",
    "storage_client = storage.Client(project=\"AbruptThawMapping\")\n",
    "abrupt_thaw = storage_client.get_bucket('abrupt_thaw')"
   ]
  },
  {
   "cell_type": "markdown",
   "id": "35e25f54",
   "metadata": {},
   "source": [
    "## Define Functions"
   ]
  },
  {
   "cell_type": "code",
   "execution_count": null,
   "id": "b32b7414",
   "metadata": {},
   "outputs": [],
   "source": [
    "# Set Properties to allow filtering\n",
    "def setID(image):\n",
    "    img_id = image.id();\n",
    "    img_prop = image.setMulti({'ID': img_id});\n",
    "    img_prop = ee.Image(img_prop);\n",
    "    return img_prop;"
   ]
  },
  {
   "cell_type": "code",
   "execution_count": null,
   "id": "064b31bb",
   "metadata": {},
   "outputs": [],
   "source": [
    "# Mask nodata\n",
    "def mask_0(image):\n",
    "    mask = image.gt(0)\n",
    "    return image.updateMask(mask)"
   ]
  },
  {
   "cell_type": "markdown",
   "id": "c006cb8d",
   "metadata": {},
   "source": [
    "## Import Data"
   ]
  },
  {
   "cell_type": "code",
   "execution_count": null,
   "id": "30d1aa30",
   "metadata": {},
   "outputs": [],
   "source": [
    "# Import Data\n",
    "# Maxar\n",
    "maxar = ee.Image(\"users/gfiske/FrostCraters/maxar_imagery_v2\");\n",
    "\n",
    "# Import Planet Data from GCS\n",
    "planet = ee.ImageCollection('projects/abruptthawmapping/assets/yg_val_regions_composites')\n",
    "planet = planet.map(setID)\n",
    "print(planet.first().bandNames().getInfo())\n",
    "\n",
    "# Polygons\n",
    "polygons = ee.FeatureCollection('users/gfiske/FrostCraters/rts_polygons_for_Yili_May_2022')"
   ]
  },
  {
   "cell_type": "code",
   "execution_count": null,
   "id": "91b4a0ee",
   "metadata": {},
   "outputs": [],
   "source": [
    "# Get Sentinel-2 Mosaic to Compare, as well\n",
    "s2 = ee.ImageCollection('projects/abruptthawmapping/assets/yg_val_regions_sentinel_reference')\n",
    "s2 = planet.map(setID)"
   ]
  },
  {
   "cell_type": "code",
   "execution_count": null,
   "id": "cde3814d",
   "metadata": {},
   "outputs": [],
   "source": [
    "# Mask the data to values greater than 0 (which is how nodata gets imported into GEE by default)\n",
    "planet = planet.map(mask_0)"
   ]
  },
  {
   "cell_type": "code",
   "execution_count": null,
   "id": "48dd9dc1",
   "metadata": {},
   "outputs": [],
   "source": [
    "# Prep Map\n",
    "Map = geemap.Map()\n",
    "Map.centerObject(planet)"
   ]
  },
  {
   "cell_type": "code",
   "execution_count": null,
   "id": "92bf2fa7",
   "metadata": {},
   "outputs": [],
   "source": [
    "# Separate out Years\n",
    "planet_2017 = planet.filter(ee.Filter.stringContains('ID', ee.String('2017')))\n",
    "planet_2018 = planet.filter(ee.Filter.stringContains('ID', ee.String('2018')))\n",
    "planet_2019 = planet.filter(ee.Filter.stringContains('ID', ee.String('2019')))\n",
    "planet_2020 = planet.filter(ee.Filter.stringContains('ID', ee.String('2020')))\n",
    "planet_2021 = planet.filter(ee.Filter.stringContains('ID', ee.String('2021')))\n",
    "planet_all = planet.filter(ee.Filter.stringContains('ID', ee.String('all')))"
   ]
  },
  {
   "cell_type": "code",
   "execution_count": null,
   "id": "38a092d3",
   "metadata": {},
   "outputs": [],
   "source": [
    "# Set visualization parameters\n",
    "vis_params = {\n",
    "    'min': 0,'max': 1200,\n",
    "    'bands': ['red', 'green', 'blue'],\n",
    "    'gamma': 1\n",
    "}"
   ]
  },
  {
   "cell_type": "code",
   "execution_count": null,
   "id": "801215d7",
   "metadata": {},
   "outputs": [],
   "source": [
    "# Add layers\n",
    "# Add Maxar to all maps\n",
    "Map.addLayer(maxar, {'min':8, 'max':192}, 'Maxar')\n",
    "\n",
    "# Add Sentinel-2 composite\n",
    "Map.addLayer(s2, {'bands':['red', 'green', 'blue'], 'min':0, 'max':1200}, 'S2 All Years')\n",
    "\n",
    "# add Planet composites\n",
    "Map.addLayer(planet_2017, vis_params, 'Planet 2017')\n",
    "Map.addLayer(planet_2018, vis_params, 'Planet 2018')\n",
    "Map.addLayer(planet_2019, vis_params, 'Planet 2019')\n",
    "Map.addLayer(planet_2020, vis_params, 'Planet 2020')\n",
    "Map.addLayer(planet_2021, vis_params, 'Planet 2021')\n",
    "Map.addLayer(planet_all, vis_params, 'Planet 2017-2021')\n",
    "\n",
    "# add RTS Polygons\n",
    "Map.addLayer(polygons, {'color': 'red'}, 'RTS')"
   ]
  },
  {
   "cell_type": "code",
   "execution_count": null,
   "id": "a1f92fb6",
   "metadata": {},
   "outputs": [],
   "source": [
    "# Display the map\n",
    "Map"
   ]
  },
  {
   "cell_type": "code",
   "execution_count": null,
   "id": "790caa40",
   "metadata": {},
   "outputs": [],
   "source": []
  }
 ],
 "metadata": {
  "kernelspec": {
   "display_name": "Python 3 (ipykernel)",
   "language": "python",
   "name": "python3"
  },
  "language_info": {
   "codemirror_mode": {
    "name": "ipython",
    "version": 3
   },
   "file_extension": ".py",
   "mimetype": "text/x-python",
   "name": "python",
   "nbconvert_exporter": "python",
   "pygments_lexer": "ipython3",
   "version": "3.8.13"
  },
  "varInspector": {
   "cols": {
    "lenName": 16,
    "lenType": 16,
    "lenVar": 40
   },
   "kernels_config": {
    "python": {
     "delete_cmd_postfix": "",
     "delete_cmd_prefix": "del ",
     "library": "var_list.py",
     "varRefreshCmd": "print(var_dic_list())"
    },
    "r": {
     "delete_cmd_postfix": ") ",
     "delete_cmd_prefix": "rm(",
     "library": "var_list.r",
     "varRefreshCmd": "cat(var_dic_list()) "
    }
   },
   "types_to_exclude": [
    "module",
    "function",
    "builtin_function_or_method",
    "instance",
    "_Feature"
   ],
   "window_display": false
  }
 },
 "nbformat": 4,
 "nbformat_minor": 5
}
