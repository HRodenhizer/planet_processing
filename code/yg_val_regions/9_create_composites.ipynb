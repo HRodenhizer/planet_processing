{
 "cells": [
  {
   "cell_type": "markdown",
   "id": "79239afb",
   "metadata": {},
   "source": [
    "# Create Annual Calibrated Composite Images for Each RTS Polygon"
   ]
  },
  {
   "cell_type": "markdown",
   "id": "dcc4c23e",
   "metadata": {},
   "source": [
    "## Set Up Environment"
   ]
  },
  {
   "cell_type": "code",
   "execution_count": null,
   "id": "7f44ceec",
   "metadata": {},
   "outputs": [],
   "source": [
    "import ee\n",
    "ee.Initialize()"
   ]
  },
  {
   "cell_type": "code",
   "execution_count": null,
   "id": "caf3a9d1",
   "metadata": {},
   "outputs": [],
   "source": [
    "# Import Libraries\n",
    "import geemap\n",
    "import os\n",
    "from pprint import pprint\n",
    "import math\n",
    "import statistics\n",
    "import numpy as np\n",
    "import pandas as pd\n",
    "import geopandas as gpd\n",
    "import shapely as shp\n",
    "import xarray as xr\n",
    "import rioxarray as rxr\n",
    "from datetime import datetime\n",
    "from collections import Counter\n",
    "import re\n",
    "from google.cloud import storage"
   ]
  },
  {
   "cell_type": "code",
   "execution_count": null,
   "id": "beda10e3",
   "metadata": {},
   "outputs": [],
   "source": [
    "# Set up access to abrupt_thaw\n",
    "storage_client = storage.Client(project=\"AbruptThawMapping\")\n",
    "abrupt_thaw = storage_client.get_bucket('abrupt_thaw')"
   ]
  },
  {
   "cell_type": "markdown",
   "id": "9ae7040e",
   "metadata": {},
   "source": [
    "## Define Functions"
   ]
  },
  {
   "cell_type": "code",
   "execution_count": null,
   "id": "f0ae54d1",
   "metadata": {},
   "outputs": [],
   "source": [
    "# Set Properties to allow filtering\n",
    "def setID(image):\n",
    "    img_id = image.id();\n",
    "    img_prop = image.setMulti({'ID': img_id});\n",
    "    img_prop = ee.Image(img_prop);\n",
    "    return img_prop;"
   ]
  },
  {
   "cell_type": "code",
   "execution_count": null,
   "id": "823101ab",
   "metadata": {},
   "outputs": [],
   "source": [
    "# function to get UTM zone from WGS84 lat and lon\n",
    "def utm_from_wgs84(lon, lat):\n",
    "    #Special Cases for Norway and Svalbard\n",
    "    if (lat > 55 and lat < 64 and lon > 2 and lon < 6):\n",
    "        return 32\n",
    "    elif (lat > 71 and lon >= 6 and lon < 9):\n",
    "        return 31\n",
    "    elif (lat > 71 and ((lon >= 9 and lon < 12) or (lon >= 18 and lon < 21))):\n",
    "        return 33\n",
    "    elif (lat > 71 and ((lon >= 21 and lon < 24) or (lon >= 30 and lon < 33))):\n",
    "        return 35\n",
    "    # Rest of the world\n",
    "    elif (lon >= -180 and lon <= 180):\n",
    "        return 32600 + (math.floor((lon + 180) / 6) % 60) + 1 # 32600 for northern hemisphere\n",
    "    else:\n",
    "        raise ValueError('Cannot figure out UTM zone from given Lat: {0}, Lon: {1}.'.format(lat, lon))"
   ]
  },
  {
   "cell_type": "markdown",
   "id": "aa75a44b",
   "metadata": {},
   "source": [
    "## Import Data and Prepare Visualization Parameters"
   ]
  },
  {
   "cell_type": "code",
   "execution_count": null,
   "id": "581ae341",
   "metadata": {},
   "outputs": [],
   "source": [
    "# Import Planet Data GCS\n",
    "planet = ee.ImageCollection('projects/abruptthawmapping/assets/yg_val_regions_imagery_calibrated')\n",
    "planet = planet.map(setID)"
   ]
  },
  {
   "cell_type": "code",
   "execution_count": null,
   "id": "72839ab5",
   "metadata": {},
   "outputs": [],
   "source": [
    "planet.first().getInfo()"
   ]
  },
  {
   "cell_type": "code",
   "execution_count": null,
   "id": "6c6d0413",
   "metadata": {},
   "outputs": [],
   "source": [
    "# Prep Map\n",
    "Map = geemap.Map()\n",
    "Map.centerObject(planet)"
   ]
  },
  {
   "cell_type": "code",
   "execution_count": null,
   "id": "26b542ec",
   "metadata": {},
   "outputs": [],
   "source": [
    "# View the imagery\n",
    "vis_params_imagery = {\n",
    "    'min': [470, 415, 280],'max': [1180, 930, 750],\n",
    "    'bands': ['red', 'green', 'blue'],\n",
    "    'gamma': 0.9\n",
    "}"
   ]
  },
  {
   "cell_type": "markdown",
   "id": "486cbb80",
   "metadata": {},
   "source": [
    "## Prepare Data"
   ]
  },
  {
   "cell_type": "code",
   "execution_count": null,
   "id": "2c8ba62c",
   "metadata": {},
   "outputs": [],
   "source": [
    "# Mask the data to values greater than 0 (which is how nodata gets imported into GEE by default)\n",
    "def mask_0(image):\n",
    "    mask = image.gt(0)\n",
    "    return image.updateMask(mask)\n",
    "\n",
    "planet = planet.map(mask_0)"
   ]
  },
  {
   "cell_type": "code",
   "execution_count": null,
   "id": "fe0f520f",
   "metadata": {},
   "outputs": [],
   "source": [
    "years = [2017, 2018, 2019, 2020, 2021]"
   ]
  },
  {
   "cell_type": "markdown",
   "id": "0584fd30",
   "metadata": {},
   "source": [
    "## Create Annual Composites"
   ]
  },
  {
   "cell_type": "code",
   "execution_count": null,
   "id": "aa827c11",
   "metadata": {
    "scrolled": true
   },
   "outputs": [],
   "source": [
    "# create a composite image across all regions for each year individually and all years combined\n",
    "planet_composite_2017 = planet.filter(ee.Filter.stringContains('ID', '2017')).median()\n",
    "planet_composite_2018 = planet.filter(ee.Filter.stringContains('ID', '2018')).median()\n",
    "planet_composite_2019 = planet.filter(ee.Filter.stringContains('ID', '2019')).median()\n",
    "planet_composite_2020 = planet.filter(ee.Filter.stringContains('ID', '2020')).median()\n",
    "planet_composite_2021 = planet.filter(ee.Filter.stringContains('ID', '2021')).median()\n",
    "\n",
    "planet_composite_all = planet.median()"
   ]
  },
  {
   "cell_type": "markdown",
   "id": "f5891a1e",
   "metadata": {},
   "source": [
    "## Map Composites"
   ]
  },
  {
   "cell_type": "code",
   "execution_count": null,
   "id": "35509278",
   "metadata": {
    "scrolled": true
   },
   "outputs": [],
   "source": [
    "# Add composites to the map as one layer\n",
    "Map.addLayer(planet_composite_2017,\n",
    "             vis_params_imagery,\n",
    "             '2017 Composites')\n",
    "Map.addLayer(planet_composite_2018,\n",
    "             vis_params_imagery,\n",
    "             '2018 Composites')\n",
    "Map.addLayer(planet_composite_2019,\n",
    "             vis_params_imagery,\n",
    "             '2019 Composites')\n",
    "Map.addLayer(planet_composite_2020,\n",
    "             vis_params_imagery,\n",
    "             '2020 Composites')\n",
    "Map.addLayer(planet_composite_2021,\n",
    "             vis_params_imagery,\n",
    "             '2020 Composites')\n",
    "Map.addLayer(planet_composite_all,\n",
    "             vis_params_imagery,\n",
    "             'All')"
   ]
  },
  {
   "cell_type": "code",
   "execution_count": null,
   "id": "e505ab32",
   "metadata": {
    "scrolled": false
   },
   "outputs": [],
   "source": [
    "Map"
   ]
  },
  {
   "cell_type": "markdown",
   "id": "189242e4",
   "metadata": {},
   "source": [
    "## Export Annual Composites"
   ]
  },
  {
   "cell_type": "code",
   "execution_count": null,
   "id": "83dd181b",
   "metadata": {},
   "outputs": [],
   "source": [
    "# Import shapefile with AOI (multipolygon)\n",
    "aoi = gpd.read_file(\"/home/hrodenhizer/Documents/permafrost_pathways/rts_mapping/planet_processing_test/data/yg_val_regions/bboxes/yg_validation_bboxes.shp\")\n",
    "aoi['region'] = [0, 1, 2, 3]\n",
    "# convert to json for planet data search\n",
    "sites = json.loads(aoi.to_json()) # if multiple sites"
   ]
  },
  {
   "cell_type": "code",
   "execution_count": null,
   "id": "62374012",
   "metadata": {},
   "outputs": [],
   "source": [
    "zones = pd.DataFrame(columns = ['region', 'utm_zone'])\n",
    "for idx, region in enumerate(aoi.geometry):\n",
    "    region_zones = []\n",
    "    for x, y in zip(region.exterior.coords.xy[0], region.exterior.coords.xy[1]):\n",
    "        region_zones.append(utm_from_wgs84(x, y))\n",
    "        \n",
    "    region_zones = round(statistics.median(region_zones))\n",
    "    temp_df = pd.DataFrame({'region': [idx],\n",
    "                            'utm_zone': [region_zones]})\n",
    "    zones = pd.concat([zones, temp_df])\n",
    "zones = zones.set_index('region')  \n",
    "zones"
   ]
  },
  {
   "cell_type": "code",
   "execution_count": null,
   "id": "f5d74c9f",
   "metadata": {
    "scrolled": true
   },
   "outputs": [],
   "source": [
    "# # Export Composites to Drive (2017)\n",
    "# for region in aoi.region:\n",
    "#     name = 'yg_val_regions_composite_region_' + str(region) + '_2017'\n",
    "#     geometry = sites['features'][region]['geometry']['coordinates']\n",
    "#     scale = 3\n",
    "#     crs = 'EPSG:' + str(zones.iloc[region].utm_zone)\n",
    "#     task = ee.batch.Export.image.toCloudStorage(\n",
    "#         image = planet_composite_2017,\n",
    "#         description = name,\n",
    "#         bucket = 'abrupt_thaw',\n",
    "#         fileNamePrefix = 'planet_processing/data/yg_val_regions/calibrated_composites/' + name,\n",
    "#         crs = crs,\n",
    "#         region = geometry,\n",
    "#         scale = scale,\n",
    "#         maxPixels = 1e13,\n",
    "#         fileFormat = 'GeoTIFF',\n",
    "#         formatOptions = {'cloudOptimized': True}\n",
    "#     )\n",
    "#     task.start()"
   ]
  },
  {
   "cell_type": "code",
   "execution_count": null,
   "id": "61c6833f",
   "metadata": {
    "scrolled": true
   },
   "outputs": [],
   "source": [
    "# # Export Composites to Drive (2018)\n",
    "# for region in aoi.region:\n",
    "#     name = 'yg_val_regions_composite_region_' + str(region) + '_2018'\n",
    "#     geometry = sites['features'][region]['geometry']['coordinates']\n",
    "#     scale = 3\n",
    "#     crs = 'EPSG:' + str(zones.iloc[region].utm_zone)\n",
    "#     task = ee.batch.Export.image.toCloudStorage(\n",
    "#         image = planet_composite_2018,\n",
    "#         description = name,\n",
    "#         bucket = 'abrupt_thaw',\n",
    "#         fileNamePrefix = 'planet_processing/data/yg_val_regions/calibrated_composites/' + name,\n",
    "#         crs = crs,\n",
    "#         region = geometry,\n",
    "#         scale = scale,\n",
    "#         maxPixels = 1e13,\n",
    "#         fileFormat = 'GeoTIFF',\n",
    "#         formatOptions = {'cloudOptimized': True}\n",
    "#     )\n",
    "#     task.start()"
   ]
  },
  {
   "cell_type": "code",
   "execution_count": null,
   "id": "e7c0fec1",
   "metadata": {
    "scrolled": true
   },
   "outputs": [],
   "source": [
    "# # Export Composites to Drive (2019)\n",
    "# for region in aoi.region:\n",
    "#     name = 'yg_val_regions_composite_region_' + str(region) + '_2019'\n",
    "#     geometry = sites['features'][region]['geometry']['coordinates']\n",
    "#     scale = 3\n",
    "#     crs = 'EPSG:' + str(zones.iloc[region].utm_zone)\n",
    "#     task = ee.batch.Export.image.toCloudStorage(\n",
    "#         image = planet_composite_2019,\n",
    "#         description = name,\n",
    "#         bucket = 'abrupt_thaw',\n",
    "#         fileNamePrefix = 'planet_processing/data/yg_val_regions/calibrated_composites/' + name,\n",
    "#         crs = crs,\n",
    "#         region = geometry,\n",
    "#         scale = scale,\n",
    "#         maxPixels = 1e13,\n",
    "#         fileFormat = 'GeoTIFF',\n",
    "#         formatOptions = {'cloudOptimized': True}\n",
    "#     )\n",
    "#     task.start()"
   ]
  },
  {
   "cell_type": "code",
   "execution_count": null,
   "id": "221c0225",
   "metadata": {
    "scrolled": true
   },
   "outputs": [],
   "source": [
    "# # Export Composites to Drive (2020)\n",
    "# for region in aoi.region:\n",
    "#     name = 'yg_val_regions_composite_region_' + str(region) + '_2020'\n",
    "#     geometry = sites['features'][region]['geometry']['coordinates']\n",
    "#     scale = 3\n",
    "#     crs = 'EPSG:' + str(zones.iloc[region].utm_zone)\n",
    "#     task = ee.batch.Export.image.toCloudStorage(\n",
    "#         image = planet_composite_2020,\n",
    "#         description = name,\n",
    "#         bucket = 'abrupt_thaw',\n",
    "#         fileNamePrefix = 'planet_processing/data/yg_val_regions/calibrated_composites/' + name,\n",
    "#         crs = crs,\n",
    "#         region = geometry,\n",
    "#         scale = scale,\n",
    "#         maxPixels = 1e13,\n",
    "#         fileFormat = 'GeoTIFF',\n",
    "#         formatOptions = {'cloudOptimized': True}\n",
    "#     )\n",
    "#     task.start()"
   ]
  },
  {
   "cell_type": "code",
   "execution_count": null,
   "id": "f351a8df",
   "metadata": {
    "scrolled": true
   },
   "outputs": [],
   "source": [
    "# # Export Composites to Drive (2021)\n",
    "# for region in aoi.region:\n",
    "#     name = 'yg_val_regions_composite_region_' + str(region) + '_2021'\n",
    "#     geometry = sites['features'][region]['geometry']['coordinates']\n",
    "#     scale = 3\n",
    "#     crs = 'EPSG:' + str(zones.iloc[region].utm_zone)\n",
    "#     task = ee.batch.Export.image.toCloudStorage(\n",
    "#         image = planet_composite_2021,\n",
    "#         description = name,\n",
    "#         bucket = 'abrupt_thaw',\n",
    "#         fileNamePrefix = 'planet_processing/data/yg_val_regions/calibrated_composites/' + name,\n",
    "#         crs = crs,\n",
    "#         region = geometry,\n",
    "#         scale = scale,\n",
    "#         maxPixels = 1e13,\n",
    "#         fileFormat = 'GeoTIFF',\n",
    "#         formatOptions = {'cloudOptimized': True}\n",
    "#     )\n",
    "#     task.start()"
   ]
  },
  {
   "cell_type": "code",
   "execution_count": null,
   "id": "d269a565",
   "metadata": {
    "scrolled": true
   },
   "outputs": [],
   "source": [
    "# # Export Composites to Drive (all)\n",
    "# for region in aoi.region:\n",
    "#     name = 'yg_val_regions_composite_region_' + str(region) + '_all'\n",
    "#     geometry = sites['features'][region]['geometry']['coordinates']\n",
    "#     scale = 3\n",
    "#     crs = 'EPSG:' + str(zones.iloc[region].utm_zone)\n",
    "#     task = ee.batch.Export.image.toCloudStorage(\n",
    "#         image = planet_composite_all,\n",
    "#         description = name,\n",
    "#         bucket = 'abrupt_thaw',\n",
    "#         fileNamePrefix = 'planet_processing/data/yg_val_regions/calibrated_composites/' + name,\n",
    "#         crs = crs,\n",
    "#         region = geometry,\n",
    "#         scale = scale,\n",
    "#         maxPixels = 1e13,\n",
    "#         fileFormat = 'GeoTIFF',\n",
    "#         formatOptions = {'cloudOptimized': True}\n",
    "#     )\n",
    "#     task.start()"
   ]
  },
  {
   "cell_type": "code",
   "execution_count": null,
   "id": "2961c69b",
   "metadata": {
    "scrolled": false
   },
   "outputs": [],
   "source": []
  }
 ],
 "metadata": {
  "kernelspec": {
   "display_name": "Python 3 (ipykernel)",
   "language": "python",
   "name": "python3"
  },
  "language_info": {
   "codemirror_mode": {
    "name": "ipython",
    "version": 3
   },
   "file_extension": ".py",
   "mimetype": "text/x-python",
   "name": "python",
   "nbconvert_exporter": "python",
   "pygments_lexer": "ipython3",
   "version": "3.8.13"
  },
  "varInspector": {
   "cols": {
    "lenName": 16,
    "lenType": 16,
    "lenVar": 40
   },
   "kernels_config": {
    "python": {
     "delete_cmd_postfix": "",
     "delete_cmd_prefix": "del ",
     "library": "var_list.py",
     "varRefreshCmd": "print(var_dic_list())"
    },
    "r": {
     "delete_cmd_postfix": ") ",
     "delete_cmd_prefix": "rm(",
     "library": "var_list.r",
     "varRefreshCmd": "cat(var_dic_list()) "
    }
   },
   "types_to_exclude": [
    "module",
    "function",
    "builtin_function_or_method",
    "instance",
    "_Feature"
   ],
   "window_display": false
  }
 },
 "nbformat": 4,
 "nbformat_minor": 5
}
